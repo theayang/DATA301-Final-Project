{
  "nbformat": 4,
  "nbformat_minor": 0,
  "metadata": {
    "colab": {
      "name": "Machine Learning - Andy Do, Jenisa Nguyen, Thea Yang",
      "provenance": []
    },
    "kernelspec": {
      "name": "python3",
      "display_name": "Python 3"
    }
  },
  "cells": [
    {
      "cell_type": "code",
      "metadata": {
        "id": "eqQ6BXduM2CM"
      },
      "source": [
        "import pandas as pd\r\n",
        "from sklearn.preprocessing import StandardScaler\r\n",
        "from sklearn.neighbors import KNeighborsClassifier\r\n",
        "from sklearn.pipeline import make_pipeline\r\n",
        "from sklearn.model_selection import train_test_split\r\n",
        "from sklearn.metrics import accuracy_score, precision_score, recall_score\r\n",
        "import itertools\r\n",
        "from sklearn.metrics import precision_recall_curve"
      ],
      "execution_count": null,
      "outputs": []
    },
    {
      "cell_type": "code",
      "metadata": {
        "id": "efgDJ3jnLNWU"
      },
      "source": [
        "import matplotlib\r\n",
        "matplotlib.style.use('ggplot')\r\n",
        "import matplotlib.pyplot as plt"
      ],
      "execution_count": null,
      "outputs": []
    },
    {
      "cell_type": "code",
      "metadata": {
        "id": "s1_IKZpjM7hH"
      },
      "source": [
        "nw_plants = pd.read_csv('/content/drive/MyDrive/Colab Notebooks/Final Project/Data Stuff/nw_plants.csv')"
      ],
      "execution_count": null,
      "outputs": []
    },
    {
      "cell_type": "code",
      "metadata": {
        "colab": {
          "base_uri": "https://localhost:8080/",
          "height": 334
        },
        "id": "x8vS8goKNBv2",
        "outputId": "426bf47a-4e7a-4ab6-8d40-2975d9e2d045"
      },
      "source": [
        "nw_plants.describe()"
      ],
      "execution_count": null,
      "outputs": [
        {
          "output_type": "execute_result",
          "data": {
            "text/html": [
              "<div>\n",
              "<style scoped>\n",
              "    .dataframe tbody tr th:only-of-type {\n",
              "        vertical-align: middle;\n",
              "    }\n",
              "\n",
              "    .dataframe tbody tr th {\n",
              "        vertical-align: top;\n",
              "    }\n",
              "\n",
              "    .dataframe thead th {\n",
              "        text-align: right;\n",
              "    }\n",
              "</style>\n",
              "<table border=\"1\" class=\"dataframe\">\n",
              "  <thead>\n",
              "    <tr style=\"text-align: right;\">\n",
              "      <th></th>\n",
              "      <th>Unnamed: 0</th>\n",
              "      <th>Unnamed: 0.1</th>\n",
              "      <th>index</th>\n",
              "      <th>id</th>\n",
              "      <th>main_species_id</th>\n",
              "      <th>year</th>\n",
              "      <th>genus_id</th>\n",
              "      <th>main_species.id</th>\n",
              "      <th>main_species.year</th>\n",
              "      <th>main_species.genus_id</th>\n",
              "      <th>main_species.fruit_or_seed.shape</th>\n",
              "      <th>main_species.specifications.average_height.cm</th>\n",
              "      <th>main_species.specifications.maximum_height.cm</th>\n",
              "      <th>main_species.growth.days_to_harvest</th>\n",
              "      <th>main_species.growth.row_spacing.cm</th>\n",
              "      <th>main_species.growth.spread.cm</th>\n",
              "      <th>main_species.growth.ph_maximum</th>\n",
              "      <th>main_species.growth.ph_minimum</th>\n",
              "      <th>main_species.growth.light</th>\n",
              "      <th>main_species.growth.atmospheric_humidity</th>\n",
              "      <th>main_species.growth.growth_months</th>\n",
              "      <th>main_species.growth.fruit_months</th>\n",
              "      <th>main_species.growth.minimum_precipitation.mm</th>\n",
              "      <th>main_species.growth.maximum_precipitation.mm</th>\n",
              "      <th>main_species.growth.minimum_root_depth.cm</th>\n",
              "      <th>main_species.growth.minimum_temperature.deg_f</th>\n",
              "      <th>main_species.growth.minimum_temperature.deg_c</th>\n",
              "      <th>main_species.growth.maximum_temperature.deg_f</th>\n",
              "      <th>main_species.growth.maximum_temperature.deg_c</th>\n",
              "      <th>main_species.growth.soil_nutriments</th>\n",
              "      <th>main_species.growth.soil_salinity</th>\n",
              "      <th>main_species.growth.soil_texture</th>\n",
              "      <th>main_species.growth.soil_humidity</th>\n",
              "      <th>genus.id</th>\n",
              "      <th>family.id</th>\n",
              "      <th>main_species</th>\n",
              "    </tr>\n",
              "  </thead>\n",
              "  <tbody>\n",
              "    <tr>\n",
              "      <th>count</th>\n",
              "      <td>5373.000000</td>\n",
              "      <td>5373.000000</td>\n",
              "      <td>1452.0</td>\n",
              "      <td>5373.000000</td>\n",
              "      <td>5.369000e+03</td>\n",
              "      <td>5229.000000</td>\n",
              "      <td>5280.000000</td>\n",
              "      <td>5.280000e+03</td>\n",
              "      <td>5229.000000</td>\n",
              "      <td>5280.000000</td>\n",
              "      <td>0.0</td>\n",
              "      <td>980.000000</td>\n",
              "      <td>972.000000</td>\n",
              "      <td>2.000000</td>\n",
              "      <td>12.000000</td>\n",
              "      <td>10.000000</td>\n",
              "      <td>1532.000000</td>\n",
              "      <td>1532.000000</td>\n",
              "      <td>834.000000</td>\n",
              "      <td>829.000000</td>\n",
              "      <td>0.0</td>\n",
              "      <td>0.0</td>\n",
              "      <td>902.000000</td>\n",
              "      <td>902.000000</td>\n",
              "      <td>912.000000</td>\n",
              "      <td>917.000000</td>\n",
              "      <td>917.000000</td>\n",
              "      <td>3.000000</td>\n",
              "      <td>3.000000</td>\n",
              "      <td>832.000000</td>\n",
              "      <td>833.000000</td>\n",
              "      <td>833.000000</td>\n",
              "      <td>2.000000</td>\n",
              "      <td>5373.000000</td>\n",
              "      <td>5373.000000</td>\n",
              "      <td>0.0</td>\n",
              "    </tr>\n",
              "    <tr>\n",
              "      <th>mean</th>\n",
              "      <td>2686.000000</td>\n",
              "      <td>196.059185</td>\n",
              "      <td>0.0</td>\n",
              "      <td>173328.334822</td>\n",
              "      <td>3.006066e+05</td>\n",
              "      <td>1875.441193</td>\n",
              "      <td>2888.054924</td>\n",
              "      <td>2.931099e+05</td>\n",
              "      <td>1875.441193</td>\n",
              "      <td>2888.054924</td>\n",
              "      <td>NaN</td>\n",
              "      <td>332.925510</td>\n",
              "      <td>359.724280</td>\n",
              "      <td>57.500000</td>\n",
              "      <td>22.166667</td>\n",
              "      <td>53.200000</td>\n",
              "      <td>7.399347</td>\n",
              "      <td>5.937990</td>\n",
              "      <td>7.330935</td>\n",
              "      <td>5.841978</td>\n",
              "      <td>NaN</td>\n",
              "      <td>NaN</td>\n",
              "      <td>435.721729</td>\n",
              "      <td>1240.761641</td>\n",
              "      <td>31.745614</td>\n",
              "      <td>-21.087241</td>\n",
              "      <td>-29.486369</td>\n",
              "      <td>89.000000</td>\n",
              "      <td>31.666667</td>\n",
              "      <td>5.292067</td>\n",
              "      <td>0.354142</td>\n",
              "      <td>2.927971</td>\n",
              "      <td>2.500000</td>\n",
              "      <td>2887.844593</td>\n",
              "      <td>107.465476</td>\n",
              "      <td>NaN</td>\n",
              "    </tr>\n",
              "    <tr>\n",
              "      <th>std</th>\n",
              "      <td>1551.195829</td>\n",
              "      <td>388.984440</td>\n",
              "      <td>0.0</td>\n",
              "      <td>100364.513253</td>\n",
              "      <td>3.442175e+05</td>\n",
              "      <td>73.989449</td>\n",
              "      <td>2657.404981</td>\n",
              "      <td>3.358916e+05</td>\n",
              "      <td>73.989449</td>\n",
              "      <td>2657.404981</td>\n",
              "      <td>NaN</td>\n",
              "      <td>853.448157</td>\n",
              "      <td>979.213207</td>\n",
              "      <td>24.748737</td>\n",
              "      <td>21.251025</td>\n",
              "      <td>28.502631</td>\n",
              "      <td>0.849297</td>\n",
              "      <td>0.949017</td>\n",
              "      <td>1.237985</td>\n",
              "      <td>1.903562</td>\n",
              "      <td>NaN</td>\n",
              "      <td>NaN</td>\n",
              "      <td>242.822341</td>\n",
              "      <td>726.700780</td>\n",
              "      <td>18.892700</td>\n",
              "      <td>21.600659</td>\n",
              "      <td>12.037019</td>\n",
              "      <td>5.196152</td>\n",
              "      <td>2.886751</td>\n",
              "      <td>1.905097</td>\n",
              "      <td>1.324024</td>\n",
              "      <td>1.289603</td>\n",
              "      <td>0.707107</td>\n",
              "      <td>2656.346941</td>\n",
              "      <td>163.047095</td>\n",
              "      <td>NaN</td>\n",
              "    </tr>\n",
              "    <tr>\n",
              "      <th>min</th>\n",
              "      <td>0.000000</td>\n",
              "      <td>0.000000</td>\n",
              "      <td>0.0</td>\n",
              "      <td>95493.000000</td>\n",
              "      <td>1.011260e+05</td>\n",
              "      <td>1753.000000</td>\n",
              "      <td>3.000000</td>\n",
              "      <td>1.011260e+05</td>\n",
              "      <td>1753.000000</td>\n",
              "      <td>3.000000</td>\n",
              "      <td>NaN</td>\n",
              "      <td>3.000000</td>\n",
              "      <td>3.000000</td>\n",
              "      <td>40.000000</td>\n",
              "      <td>2.000000</td>\n",
              "      <td>10.000000</td>\n",
              "      <td>4.000000</td>\n",
              "      <td>3.000000</td>\n",
              "      <td>2.000000</td>\n",
              "      <td>1.000000</td>\n",
              "      <td>NaN</td>\n",
              "      <td>NaN</td>\n",
              "      <td>50.000000</td>\n",
              "      <td>279.000000</td>\n",
              "      <td>0.000000</td>\n",
              "      <td>-76.000000</td>\n",
              "      <td>-60.000000</td>\n",
              "      <td>86.000000</td>\n",
              "      <td>30.000000</td>\n",
              "      <td>1.000000</td>\n",
              "      <td>0.000000</td>\n",
              "      <td>1.000000</td>\n",
              "      <td>2.000000</td>\n",
              "      <td>3.000000</td>\n",
              "      <td>1.000000</td>\n",
              "      <td>NaN</td>\n",
              "    </tr>\n",
              "    <tr>\n",
              "      <th>25%</th>\n",
              "      <td>1343.000000</td>\n",
              "      <td>0.000000</td>\n",
              "      <td>0.0</td>\n",
              "      <td>117776.000000</td>\n",
              "      <td>1.310900e+05</td>\n",
              "      <td>1827.000000</td>\n",
              "      <td>1169.500000</td>\n",
              "      <td>1.305048e+05</td>\n",
              "      <td>1827.000000</td>\n",
              "      <td>1169.500000</td>\n",
              "      <td>NaN</td>\n",
              "      <td>45.000000</td>\n",
              "      <td>45.000000</td>\n",
              "      <td>48.750000</td>\n",
              "      <td>8.750000</td>\n",
              "      <td>33.000000</td>\n",
              "      <td>7.000000</td>\n",
              "      <td>5.200000</td>\n",
              "      <td>7.000000</td>\n",
              "      <td>4.000000</td>\n",
              "      <td>NaN</td>\n",
              "      <td>NaN</td>\n",
              "      <td>254.000000</td>\n",
              "      <td>711.000000</td>\n",
              "      <td>20.000000</td>\n",
              "      <td>-31.000000</td>\n",
              "      <td>-35.000000</td>\n",
              "      <td>86.000000</td>\n",
              "      <td>30.000000</td>\n",
              "      <td>4.000000</td>\n",
              "      <td>0.000000</td>\n",
              "      <td>2.000000</td>\n",
              "      <td>2.250000</td>\n",
              "      <td>1165.000000</td>\n",
              "      <td>13.000000</td>\n",
              "      <td>NaN</td>\n",
              "    </tr>\n",
              "    <tr>\n",
              "      <th>50%</th>\n",
              "      <td>2686.000000</td>\n",
              "      <td>0.000000</td>\n",
              "      <td>0.0</td>\n",
              "      <td>145533.000000</td>\n",
              "      <td>1.588130e+05</td>\n",
              "      <td>1876.000000</td>\n",
              "      <td>2266.000000</td>\n",
              "      <td>1.584315e+05</td>\n",
              "      <td>1876.000000</td>\n",
              "      <td>2266.000000</td>\n",
              "      <td>NaN</td>\n",
              "      <td>91.000000</td>\n",
              "      <td>91.000000</td>\n",
              "      <td>57.500000</td>\n",
              "      <td>17.500000</td>\n",
              "      <td>45.000000</td>\n",
              "      <td>7.500000</td>\n",
              "      <td>6.000000</td>\n",
              "      <td>8.000000</td>\n",
              "      <td>5.000000</td>\n",
              "      <td>NaN</td>\n",
              "      <td>NaN</td>\n",
              "      <td>355.000000</td>\n",
              "      <td>1270.000000</td>\n",
              "      <td>30.000000</td>\n",
              "      <td>-31.000000</td>\n",
              "      <td>-35.000000</td>\n",
              "      <td>86.000000</td>\n",
              "      <td>30.000000</td>\n",
              "      <td>6.000000</td>\n",
              "      <td>0.000000</td>\n",
              "      <td>3.000000</td>\n",
              "      <td>2.500000</td>\n",
              "      <td>2265.000000</td>\n",
              "      <td>26.000000</td>\n",
              "      <td>NaN</td>\n",
              "    </tr>\n",
              "    <tr>\n",
              "      <th>75%</th>\n",
              "      <td>4029.000000</td>\n",
              "      <td>108.000000</td>\n",
              "      <td>0.0</td>\n",
              "      <td>173773.000000</td>\n",
              "      <td>1.872510e+05</td>\n",
              "      <td>1917.000000</td>\n",
              "      <td>4264.000000</td>\n",
              "      <td>1.863485e+05</td>\n",
              "      <td>1917.000000</td>\n",
              "      <td>4264.000000</td>\n",
              "      <td>NaN</td>\n",
              "      <td>179.750000</td>\n",
              "      <td>182.000000</td>\n",
              "      <td>66.250000</td>\n",
              "      <td>30.000000</td>\n",
              "      <td>82.500000</td>\n",
              "      <td>8.000000</td>\n",
              "      <td>7.000000</td>\n",
              "      <td>8.000000</td>\n",
              "      <td>8.000000</td>\n",
              "      <td>NaN</td>\n",
              "      <td>NaN</td>\n",
              "      <td>508.000000</td>\n",
              "      <td>1524.000000</td>\n",
              "      <td>35.000000</td>\n",
              "      <td>-13.000000</td>\n",
              "      <td>-25.000000</td>\n",
              "      <td>90.500000</td>\n",
              "      <td>32.500000</td>\n",
              "      <td>7.000000</td>\n",
              "      <td>0.000000</td>\n",
              "      <td>4.000000</td>\n",
              "      <td>2.750000</td>\n",
              "      <td>4298.000000</td>\n",
              "      <td>117.000000</td>\n",
              "      <td>NaN</td>\n",
              "    </tr>\n",
              "    <tr>\n",
              "      <th>max</th>\n",
              "      <td>5372.000000</td>\n",
              "      <td>1451.000000</td>\n",
              "      <td>0.0</td>\n",
              "      <td>617088.000000</td>\n",
              "      <td>1.261870e+06</td>\n",
              "      <td>2018.000000</td>\n",
              "      <td>43701.000000</td>\n",
              "      <td>1.261870e+06</td>\n",
              "      <td>2018.000000</td>\n",
              "      <td>43701.000000</td>\n",
              "      <td>NaN</td>\n",
              "      <td>7010.000000</td>\n",
              "      <td>11550.000000</td>\n",
              "      <td>75.000000</td>\n",
              "      <td>76.000000</td>\n",
              "      <td>90.000000</td>\n",
              "      <td>10.000000</td>\n",
              "      <td>8.000000</td>\n",
              "      <td>9.000000</td>\n",
              "      <td>9.000000</td>\n",
              "      <td>NaN</td>\n",
              "      <td>NaN</td>\n",
              "      <td>1625.000000</td>\n",
              "      <td>7010.000000</td>\n",
              "      <td>152.000000</td>\n",
              "      <td>51.000000</td>\n",
              "      <td>11.000000</td>\n",
              "      <td>95.000000</td>\n",
              "      <td>35.000000</td>\n",
              "      <td>9.000000</td>\n",
              "      <td>9.000000</td>\n",
              "      <td>9.000000</td>\n",
              "      <td>3.000000</td>\n",
              "      <td>43701.000000</td>\n",
              "      <td>792.000000</td>\n",
              "      <td>NaN</td>\n",
              "    </tr>\n",
              "  </tbody>\n",
              "</table>\n",
              "</div>"
            ],
            "text/plain": [
              "        Unnamed: 0  Unnamed: 0.1  ...    family.id  main_species\n",
              "count  5373.000000   5373.000000  ...  5373.000000           0.0\n",
              "mean   2686.000000    196.059185  ...   107.465476           NaN\n",
              "std    1551.195829    388.984440  ...   163.047095           NaN\n",
              "min       0.000000      0.000000  ...     1.000000           NaN\n",
              "25%    1343.000000      0.000000  ...    13.000000           NaN\n",
              "50%    2686.000000      0.000000  ...    26.000000           NaN\n",
              "75%    4029.000000    108.000000  ...   117.000000           NaN\n",
              "max    5372.000000   1451.000000  ...   792.000000           NaN\n",
              "\n",
              "[8 rows x 36 columns]"
            ]
          },
          "metadata": {
            "tags": []
          },
          "execution_count": 4
        }
      ]
    },
    {
      "cell_type": "code",
      "metadata": {
        "id": "K4Rh6Zt5MIXM"
      },
      "source": [
        "nw_plants = nw_plants.rename(columns={\r\n",
        "    'main_species.foliage.texture' :\"Foliage Texture\",\r\n",
        "    'main_species.specifications.average_height.cm' : 'Avg Height (cm)',\r\n",
        "    'main_species.growth.minimum_temperature.deg_f': 'Minimum Temp (F)',\r\n",
        "    'main_species.growth.minimum_precipitation.mm' : 'Minimum Precipitation (mm)',\r\n",
        "    'main_species.growth.light' : 'Amt of Light',\r\n",
        "    'main_species.growth.atmospheric_humidity' : \"Amt of Humidity\"\r\n",
        "})"
      ],
      "execution_count": null,
      "outputs": []
    },
    {
      "cell_type": "markdown",
      "metadata": {
        "id": "d-XyMQMNKgn3"
      },
      "source": [
        "## Model Selection for K-Nearest Classification"
      ]
    },
    {
      "cell_type": "code",
      "metadata": {
        "id": "7Kp_T7cPZ3XA"
      },
      "source": [
        "# calculate estimate of test error for a given feature set\r\n",
        "def get_acc_error(features):\r\n",
        "  all = features.copy()\r\n",
        "  all.append('Foliage Texture')\r\n",
        "  df_short = nw_plants[all].dropna()\r\n",
        "\r\n",
        "  df_train, df_test = train_test_split(df_short, test_size=0.2)\r\n",
        "\r\n",
        "  X_train = df_train[features]\r\n",
        "  y_train = df_train['Foliage Texture']\r\n",
        "\r\n",
        "  X_test = df_test[features]\r\n",
        "  y_test_true = df_test['Foliage Texture']\r\n",
        "\r\n",
        "  # define pipeline\r\n",
        "  pipeline = make_pipeline(\r\n",
        "    StandardScaler(),\r\n",
        "    KNeighborsClassifier(n_neighbors=10)\r\n",
        ")\r\n",
        "  # calculate errors from cross-validation\r\n",
        "  pipeline.fit(X_train, y_train)\r\n",
        "  y_test_predict = pipeline.predict(X_test)\r\n",
        "  acc_score = accuracy_score(y_test_true, y_test_predict)\r\n",
        "\r\n",
        "  coarse_tup = (precision_score(y_test_true =='coarse', y_test_predict=='coarse'),\r\n",
        " recall_score(y_test_true=='coarse', y_test_predict=='coarse'))\r\n",
        "  \r\n",
        "  med_tup = (precision_score(y_test_true=='medium', y_test_predict=='medium'),\r\n",
        " recall_score(y_test_true=='medium', y_test_predict=='medium'))\r\n",
        "  \r\n",
        "  fine_tup = (precision_score(y_test_true=='fine', y_test_predict=='fine'),\r\n",
        " recall_score(y_test_true=='fine', y_test_predict=='fine'))\r\n",
        "  \r\n",
        "  res = {}\r\n",
        "\r\n",
        "  res['acc'] = acc_score\r\n",
        "  res['coarse'] = coarse_tup\r\n",
        "  res['med'] = med_tup\r\n",
        "  res['fine'] = fine_tup\r\n",
        "  res['length'] = len(df_short)\r\n",
        "  # calculate average of the cross-validation errors\r\n",
        "  return res"
      ],
      "execution_count": null,
      "outputs": []
    },
    {
      "cell_type": "code",
      "metadata": {
        "id": "KJsj4d3jgrlv"
      },
      "source": [
        "# variables tested in model\r\n",
        "\r\n",
        "avg_height = 'Avg Height (cm)'\r\n",
        "min_temp = 'Minimum Temp (F)'\r\n",
        "min_prec = 'Minimum Precipitation (mm)'\r\n",
        "light = 'Amt of Light'\r\n",
        "humidity = \"Amt of Humidity\""
      ],
      "execution_count": null,
      "outputs": []
    },
    {
      "cell_type": "code",
      "metadata": {
        "id": "eUOfZBI0hztF"
      },
      "source": [
        "# get all 5 choose 3 combinations of the variables above\r\n",
        "\r\n",
        "feat_list = [avg_height, min_temp, min_prec, light, humidity]\r\n",
        "combs = list(itertools.combinations(feat_list, 3))"
      ],
      "execution_count": null,
      "outputs": []
    },
    {
      "cell_type": "code",
      "metadata": {
        "colab": {
          "base_uri": "https://localhost:8080/"
        },
        "id": "Cwkx-DH4Nlw5",
        "outputId": "ee3d0ede-31a5-4925-dd47-ec0fe492d17f"
      },
      "source": [
        "combs"
      ],
      "execution_count": null,
      "outputs": [
        {
          "output_type": "execute_result",
          "data": {
            "text/plain": [
              "[('Avg Height (cm)', 'Minimum Temp (F)', 'Minimum Precipitation (mm)'),\n",
              " ('Avg Height (cm)', 'Minimum Temp (F)', 'Amt of Light'),\n",
              " ('Avg Height (cm)', 'Minimum Temp (F)', 'Amt of Humidity'),\n",
              " ('Avg Height (cm)', 'Minimum Precipitation (mm)', 'Amt of Light'),\n",
              " ('Avg Height (cm)', 'Minimum Precipitation (mm)', 'Amt of Humidity'),\n",
              " ('Avg Height (cm)', 'Amt of Light', 'Amt of Humidity'),\n",
              " ('Minimum Temp (F)', 'Minimum Precipitation (mm)', 'Amt of Light'),\n",
              " ('Minimum Temp (F)', 'Minimum Precipitation (mm)', 'Amt of Humidity'),\n",
              " ('Minimum Temp (F)', 'Amt of Light', 'Amt of Humidity'),\n",
              " ('Minimum Precipitation (mm)', 'Amt of Light', 'Amt of Humidity')]"
            ]
          },
          "metadata": {
            "tags": []
          },
          "execution_count": 9
        }
      ]
    },
    {
      "cell_type": "code",
      "metadata": {
        "id": "-Qx4gfr0No_g"
      },
      "source": [
        "final_df = pd.DataFrame()"
      ],
      "execution_count": null,
      "outputs": []
    },
    {
      "cell_type": "code",
      "metadata": {
        "id": "VFxpbgsfdD5Q"
      },
      "source": [
        "# testing different combinations of variables to find best accuracy, precision, and recall\r\n",
        "\r\n",
        "for i in range(len(combs)):\r\n",
        "  features = list(combs[i])\r\n",
        "  series = pd.Series(get_acc_error(features))\r\n",
        "  final_df[str(combs[i])] = series\r\n",
        "\r\n",
        "ml_table = final_df.transpose()"
      ],
      "execution_count": null,
      "outputs": []
    },
    {
      "cell_type": "code",
      "metadata": {
        "colab": {
          "base_uri": "https://localhost:8080/",
          "height": 529
        },
        "id": "OVO6v2itO7hf",
        "outputId": "3472e61b-6427-49a1-c03b-0d29494b3fea"
      },
      "source": [
        "ml_table.sort_values(by=\"acc\", ascending=False)"
      ],
      "execution_count": null,
      "outputs": [
        {
          "output_type": "execute_result",
          "data": {
            "text/html": [
              "<div>\n",
              "<style scoped>\n",
              "    .dataframe tbody tr th:only-of-type {\n",
              "        vertical-align: middle;\n",
              "    }\n",
              "\n",
              "    .dataframe tbody tr th {\n",
              "        vertical-align: top;\n",
              "    }\n",
              "\n",
              "    .dataframe thead th {\n",
              "        text-align: right;\n",
              "    }\n",
              "</style>\n",
              "<table border=\"1\" class=\"dataframe\">\n",
              "  <thead>\n",
              "    <tr style=\"text-align: right;\">\n",
              "      <th></th>\n",
              "      <th>acc</th>\n",
              "      <th>coarse</th>\n",
              "      <th>med</th>\n",
              "      <th>fine</th>\n",
              "      <th>length</th>\n",
              "    </tr>\n",
              "  </thead>\n",
              "  <tbody>\n",
              "    <tr>\n",
              "      <th>('Avg Height (cm)', 'Minimum Temp (F)', 'Amt of Humidity')</th>\n",
              "      <td>0.52381</td>\n",
              "      <td>(0.5833333333333334, 0.4666666666666667)</td>\n",
              "      <td>(0.5333333333333333, 0.5)</td>\n",
              "      <td>(0.4666666666666667, 0.6363636363636364)</td>\n",
              "      <td>207</td>\n",
              "    </tr>\n",
              "    <tr>\n",
              "      <th>('Avg Height (cm)', 'Amt of Light', 'Amt of Humidity')</th>\n",
              "      <td>0.428571</td>\n",
              "      <td>(0.45454545454545453, 0.38461538461538464)</td>\n",
              "      <td>(0.5, 0.375)</td>\n",
              "      <td>(0.3684210526315789, 0.5384615384615384)</td>\n",
              "      <td>208</td>\n",
              "    </tr>\n",
              "    <tr>\n",
              "      <th>('Avg Height (cm)', 'Minimum Temp (F)', 'Amt of Light')</th>\n",
              "      <td>0.404762</td>\n",
              "      <td>(0.47058823529411764, 0.6666666666666666)</td>\n",
              "      <td>(0.125, 0.07692307692307693)</td>\n",
              "      <td>(0.47058823529411764, 0.47058823529411764)</td>\n",
              "      <td>209</td>\n",
              "    </tr>\n",
              "    <tr>\n",
              "      <th>('Minimum Precipitation (mm)', 'Amt of Light', 'Amt of Humidity')</th>\n",
              "      <td>0.404762</td>\n",
              "      <td>(0.2857142857142857, 0.46153846153846156)</td>\n",
              "      <td>(0.42857142857142855, 0.46153846153846156)</td>\n",
              "      <td>(0.7142857142857143, 0.3125)</td>\n",
              "      <td>206</td>\n",
              "    </tr>\n",
              "    <tr>\n",
              "      <th>('Avg Height (cm)', 'Minimum Precipitation (mm)', 'Amt of Light')</th>\n",
              "      <td>0.390244</td>\n",
              "      <td>(0.3125, 0.35714285714285715)</td>\n",
              "      <td>(0.4166666666666667, 0.29411764705882354)</td>\n",
              "      <td>(0.46153846153846156, 0.6)</td>\n",
              "      <td>201</td>\n",
              "    </tr>\n",
              "    <tr>\n",
              "      <th>('Avg Height (cm)', 'Minimum Temp (F)', 'Minimum Precipitation (mm)')</th>\n",
              "      <td>0.376404</td>\n",
              "      <td>(0.2926829268292683, 0.2727272727272727)</td>\n",
              "      <td>(0.42045454545454547, 0.45121951219512196)</td>\n",
              "      <td>(0.3673469387755102, 0.34615384615384615)</td>\n",
              "      <td>886</td>\n",
              "    </tr>\n",
              "    <tr>\n",
              "      <th>('Minimum Temp (F)', 'Minimum Precipitation (mm)', 'Amt of Humidity')</th>\n",
              "      <td>0.357143</td>\n",
              "      <td>(0.35294117647058826, 0.4)</td>\n",
              "      <td>(0.23076923076923078, 0.42857142857142855)</td>\n",
              "      <td>(0.5, 0.3)</td>\n",
              "      <td>206</td>\n",
              "    </tr>\n",
              "    <tr>\n",
              "      <th>('Avg Height (cm)', 'Minimum Precipitation (mm)', 'Amt of Humidity')</th>\n",
              "      <td>0.35</td>\n",
              "      <td>(0.4117647058823529, 0.4117647058823529)</td>\n",
              "      <td>(0.2857142857142857, 0.36363636363636365)</td>\n",
              "      <td>(0.3333333333333333, 0.25)</td>\n",
              "      <td>199</td>\n",
              "    </tr>\n",
              "    <tr>\n",
              "      <th>('Minimum Temp (F)', 'Minimum Precipitation (mm)', 'Amt of Light')</th>\n",
              "      <td>0.333333</td>\n",
              "      <td>(0.23076923076923078, 0.21428571428571427)</td>\n",
              "      <td>(0.5833333333333334, 0.3888888888888889)</td>\n",
              "      <td>(0.23529411764705882, 0.4)</td>\n",
              "      <td>208</td>\n",
              "    </tr>\n",
              "    <tr>\n",
              "      <th>('Minimum Temp (F)', 'Amt of Light', 'Amt of Humidity')</th>\n",
              "      <td>0.209302</td>\n",
              "      <td>(0.2, 0.23076923076923078)</td>\n",
              "      <td>(0.09090909090909091, 0.08333333333333333)</td>\n",
              "      <td>(0.29411764705882354, 0.2777777777777778)</td>\n",
              "      <td>215</td>\n",
              "    </tr>\n",
              "  </tbody>\n",
              "</table>\n",
              "</div>"
            ],
            "text/plain": [
              "                                                         acc  ... length\n",
              "('Avg Height (cm)', 'Minimum Temp (F)', 'Amt of...   0.52381  ...    207\n",
              "('Avg Height (cm)', 'Amt of Light', 'Amt of Hum...  0.428571  ...    208\n",
              "('Avg Height (cm)', 'Minimum Temp (F)', 'Amt of...  0.404762  ...    209\n",
              "('Minimum Precipitation (mm)', 'Amt of Light', ...  0.404762  ...    206\n",
              "('Avg Height (cm)', 'Minimum Precipitation (mm)...  0.390244  ...    201\n",
              "('Avg Height (cm)', 'Minimum Temp (F)', 'Minimu...  0.376404  ...    886\n",
              "('Minimum Temp (F)', 'Minimum Precipitation (mm...  0.357143  ...    206\n",
              "('Avg Height (cm)', 'Minimum Precipitation (mm)...      0.35  ...    199\n",
              "('Minimum Temp (F)', 'Minimum Precipitation (mm...  0.333333  ...    208\n",
              "('Minimum Temp (F)', 'Amt of Light', 'Amt of Hu...  0.209302  ...    215\n",
              "\n",
              "[10 rows x 5 columns]"
            ]
          },
          "metadata": {
            "tags": []
          },
          "execution_count": 14
        }
      ]
    },
    {
      "cell_type": "markdown",
      "metadata": {
        "id": "s-hSiaIzrdOl"
      },
      "source": [
        "## Further Analysis of Highest Accuracy Model (Pre"
      ]
    },
    {
      "cell_type": "code",
      "metadata": {
        "colab": {
          "base_uri": "https://localhost:8080/"
        },
        "id": "0eEXaMxJk1vP",
        "outputId": "44854b4e-f420-433a-9635-37a23c74dfb9"
      },
      "source": [
        "features = list(combs[2])\r\n",
        "features"
      ],
      "execution_count": null,
      "outputs": [
        {
          "output_type": "execute_result",
          "data": {
            "text/plain": [
              "['Avg Height (cm)', 'Minimum Temp (F)', 'Amt of Humidity']"
            ]
          },
          "metadata": {
            "tags": []
          },
          "execution_count": 18
        }
      ]
    },
    {
      "cell_type": "code",
      "metadata": {
        "id": "mo3G3M8_lS3v"
      },
      "source": [
        "df_short = nw_plants[['Foliage Texture', 'Avg Height (cm)', 'Minimum Temp (F)', 'Amt of Humidity']].dropna()\r\n",
        "df_train, df_test = train_test_split(df_short, test_size=0.2)"
      ],
      "execution_count": null,
      "outputs": []
    },
    {
      "cell_type": "code",
      "metadata": {
        "id": "HyiM7ttMkUYY"
      },
      "source": [
        "#going more in depth for '('Avg Height (cm)', 'Minimum Temp (F)', 'Amt of Humidity')' model\r\n",
        "X_train = df_train[features]\r\n",
        "y_train = df_train['Foliage Texture']\r\n",
        "\r\n",
        "X_test = df_test[features]\r\n",
        "y_test_true = df_test['Foliage Texture']\r\n",
        "\r\n",
        "model = make_pipeline(\r\n",
        "  StandardScaler(),\r\n",
        "  KNeighborsClassifier(n_neighbors=10)\r\n",
        ")\r\n",
        "\r\n",
        "model.fit(X_train, y_train)\r\n",
        "probas_ = model.predict_proba(X_test)"
      ],
      "execution_count": null,
      "outputs": []
    },
    {
      "cell_type": "code",
      "metadata": {
        "colab": {
          "base_uri": "https://localhost:8080/",
          "height": 316
        },
        "id": "h85t85fRlosu",
        "outputId": "3168d746-9276-43ad-e7e6-9408a628a5eb"
      },
      "source": [
        "precisions, recalls, thresholds = precision_recall_curve(\r\n",
        "    y_test_true == \"coarse\", probas_[:, 0]\r\n",
        ")\r\n",
        "\r\n",
        "pd.DataFrame({\r\n",
        "    \"precision\": precisions,\r\n",
        "    \"recall\": recalls\r\n",
        "}).plot.line(x=\"recall\", y=\"precision\", title=\"Precision Recall Curve for Coarse Texture\", color=\"blue\")"
      ],
      "execution_count": null,
      "outputs": [
        {
          "output_type": "execute_result",
          "data": {
            "text/plain": [
              "<matplotlib.axes._subplots.AxesSubplot at 0x7f8a32d6d190>"
            ]
          },
          "metadata": {
            "tags": []
          },
          "execution_count": 36
        },
        {
          "output_type": "display_data",
          "data": {
            "image/png": "[encoded data removed]",
            "text/plain": [
              "<Figure size 432x288 with 1 Axes>"
            ]
          },
          "metadata": {
            "tags": []
          }
        }
      ]
    },
    {
      "cell_type": "code",
      "metadata": {
        "colab": {
          "base_uri": "https://localhost:8080/",
          "height": 316
        },
        "id": "4Nt1sLSjmPsr",
        "outputId": "ea308a9f-a473-45a5-f518-4f3710173477"
      },
      "source": [
        "precisions, recalls, thresholds = precision_recall_curve(\r\n",
        "    y_test_true == \"medium\", probas_[:, 1]\r\n",
        ")\r\n",
        "\r\n",
        "pd.DataFrame({\r\n",
        "    \"precision\": precisions,\r\n",
        "    \"recall\": recalls\r\n",
        "}).plot.line(x=\"recall\", y=\"precision\", title=\"Precision Recall Curve for Medium Texture\")"
      ],
      "execution_count": null,
      "outputs": [
        {
          "output_type": "execute_result",
          "data": {
            "text/plain": [
              "<matplotlib.axes._subplots.AxesSubplot at 0x7f8a32e4c210>"
            ]
          },
          "metadata": {
            "tags": []
          },
          "execution_count": 34
        },
        {
          "output_type": "display_data",
          "data": {
            "image/png": "[encoded data removed]",
            "text/plain": [
              "<Figure size 432x288 with 1 Axes>"
            ]
          },
          "metadata": {
            "tags": []
          }
        }
      ]
    },
    {
      "cell_type": "code",
      "metadata": {
        "colab": {
          "base_uri": "https://localhost:8080/",
          "height": 316
        },
        "id": "LAlJhxq_mc0T",
        "outputId": "9ffb749a-1282-411c-815f-50be2f5b97d1"
      },
      "source": [
        "precisions, recalls, thresholds = precision_recall_curve(\r\n",
        "    y_test_true == \"fine\", probas_[:, 2]\r\n",
        ")\r\n",
        "\r\n",
        "pd.DataFrame({\r\n",
        "    \"precision\": precisions,\r\n",
        "    \"recall\": recalls\r\n",
        "}).plot.line(x=\"recall\", y=\"precision\", title=\"Precision Recall Curve for Fine Texture\", color=\"green\")"
      ],
      "execution_count": null,
      "outputs": [
        {
          "output_type": "execute_result",
          "data": {
            "text/plain": [
              "<matplotlib.axes._subplots.AxesSubplot at 0x7f8a32b645d0>"
            ]
          },
          "metadata": {
            "tags": []
          },
          "execution_count": 39
        },
        {
          "output_type": "display_data",
          "data": {
            "image/png": "[encoded data removed]",
            "text/plain": [
              "<Figure size 432x288 with 1 Axes>"
            ]
          },
          "metadata": {
            "tags": []
          }
        }
      ]
    }
  ]
}