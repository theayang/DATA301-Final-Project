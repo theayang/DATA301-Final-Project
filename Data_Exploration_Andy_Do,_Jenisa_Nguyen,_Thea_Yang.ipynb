{
  "nbformat": 4,
  "nbformat_minor": 0,
  "metadata": {
    "colab": {
      "name": "Data Exploration - Andy Do, Jenisa Nguyen, Thea Yang",
      "provenance": []
    },
    "kernelspec": {
      "name": "python3",
      "display_name": "Python 3"
    }
  },
  "cells": [
    {
      "cell_type": "code",
      "metadata": {
        "id": "MT6KS-W010Jz",
        "colab": {
          "base_uri": "https://localhost:8080/"
        },
        "outputId": "36950efe-e4ec-4791-8f74-9bf385254eb7"
      },
      "source": [
        "import pandas as pd\r\n",
        "import altair as alt\r\n",
        "from google.colab import drive\r\n",
        "drive.mount('/content/drive')"
      ],
      "execution_count": null,
      "outputs": [
        {
          "output_type": "stream",
          "text": [
            "Mounted at /content/drive\n"
          ],
          "name": "stdout"
        }
      ]
    },
    {
      "cell_type": "code",
      "metadata": {
        "id": "5hxiRBa_HIom"
      },
      "source": [
        "import matplotlib\r\n",
        "matplotlib.style.use('ggplot')\r\n",
        "import matplotlib.pyplot as plt"
      ],
      "execution_count": null,
      "outputs": []
    },
    {
      "cell_type": "markdown",
      "metadata": {
        "id": "mwasOkLDBMbP"
      },
      "source": [
        "## Reading in the data:"
      ]
    },
    {
      "cell_type": "code",
      "metadata": {
        "id": "VPEdppYt2Zyi"
      },
      "source": [
        "nw_plants = pd.read_csv('/content/drive/MyDrive/Colab Notebooks/Final Project/Data Stuff/nw_plants.csv')"
      ],
      "execution_count": null,
      "outputs": []
    },
    {
      "cell_type": "code",
      "metadata": {
        "colab": {
          "base_uri": "https://localhost:8080/",
          "height": 542
        },
        "id": "2gufChW32f5-",
        "outputId": "ceb9aa1b-b923-4c15-b167-d3f65a17d9e0"
      },
      "source": [
        "nw_plants.head()"
      ],
      "execution_count": null,
      "outputs": [
        {
          "output_type": "execute_result",
          "data": {
            "text/html": [
              "<div>\n",
              "<style scoped>\n",
              "    .dataframe tbody tr th:only-of-type {\n",
              "        vertical-align: middle;\n",
              "    }\n",
              "\n",
              "    .dataframe tbody tr th {\n",
              "        vertical-align: top;\n",
              "    }\n",
              "\n",
              "    .dataframe thead th {\n",
              "        text-align: right;\n",
              "    }\n",
              "</style>\n",
              "<table border=\"1\" class=\"dataframe\">\n",
              "  <thead>\n",
              "    <tr style=\"text-align: right;\">\n",
              "      <th></th>\n",
              "      <th>Unnamed: 0</th>\n",
              "      <th>Unnamed: 0.1</th>\n",
              "      <th>index</th>\n",
              "      <th>id</th>\n",
              "      <th>common_name</th>\n",
              "      <th>slug</th>\n",
              "      <th>scientific_name</th>\n",
              "      <th>main_species_id</th>\n",
              "      <th>image_url</th>\n",
              "      <th>year</th>\n",
              "      <th>bibliography</th>\n",
              "      <th>author</th>\n",
              "      <th>family_common_name</th>\n",
              "      <th>genus_id</th>\n",
              "      <th>observations</th>\n",
              "      <th>vegetable</th>\n",
              "      <th>species</th>\n",
              "      <th>subspecies</th>\n",
              "      <th>varieties</th>\n",
              "      <th>hybrids</th>\n",
              "      <th>forms</th>\n",
              "      <th>subvarieties</th>\n",
              "      <th>sources</th>\n",
              "      <th>links.self</th>\n",
              "      <th>links.species</th>\n",
              "      <th>links.genus</th>\n",
              "      <th>main_species.id</th>\n",
              "      <th>main_species.common_name</th>\n",
              "      <th>main_species.slug</th>\n",
              "      <th>main_species.scientific_name</th>\n",
              "      <th>main_species.year</th>\n",
              "      <th>main_species.bibliography</th>\n",
              "      <th>main_species.author</th>\n",
              "      <th>main_species.status</th>\n",
              "      <th>main_species.rank</th>\n",
              "      <th>main_species.family_common_name</th>\n",
              "      <th>main_species.genus_id</th>\n",
              "      <th>main_species.observations</th>\n",
              "      <th>main_species.vegetable</th>\n",
              "      <th>main_species.image_url</th>\n",
              "      <th>...</th>\n",
              "      <th>main_species.growth.light</th>\n",
              "      <th>main_species.growth.atmospheric_humidity</th>\n",
              "      <th>main_species.growth.growth_months</th>\n",
              "      <th>main_species.growth.bloom_months</th>\n",
              "      <th>main_species.growth.fruit_months</th>\n",
              "      <th>main_species.growth.minimum_precipitation.mm</th>\n",
              "      <th>main_species.growth.maximum_precipitation.mm</th>\n",
              "      <th>main_species.growth.minimum_root_depth.cm</th>\n",
              "      <th>main_species.growth.minimum_temperature.deg_f</th>\n",
              "      <th>main_species.growth.minimum_temperature.deg_c</th>\n",
              "      <th>main_species.growth.maximum_temperature.deg_f</th>\n",
              "      <th>main_species.growth.maximum_temperature.deg_c</th>\n",
              "      <th>main_species.growth.soil_nutriments</th>\n",
              "      <th>main_species.growth.soil_salinity</th>\n",
              "      <th>main_species.growth.soil_texture</th>\n",
              "      <th>main_species.growth.soil_humidity</th>\n",
              "      <th>main_species.links.self</th>\n",
              "      <th>main_species.links.plant</th>\n",
              "      <th>main_species.links.genus</th>\n",
              "      <th>genus.id</th>\n",
              "      <th>genus.name</th>\n",
              "      <th>genus.slug</th>\n",
              "      <th>genus.links.self</th>\n",
              "      <th>genus.links.plants</th>\n",
              "      <th>genus.links.species</th>\n",
              "      <th>genus.links.family</th>\n",
              "      <th>family.id</th>\n",
              "      <th>family.name</th>\n",
              "      <th>family.common_name</th>\n",
              "      <th>family.slug</th>\n",
              "      <th>family.links.self</th>\n",
              "      <th>family.links.division_order</th>\n",
              "      <th>family.links.genus</th>\n",
              "      <th>main_species.distribution.doubtful</th>\n",
              "      <th>main_species.distributions.doubtful</th>\n",
              "      <th>main_species.distribution.absent</th>\n",
              "      <th>main_species.distributions.absent</th>\n",
              "      <th>main_species.distribution.extinct</th>\n",
              "      <th>main_species.distributions.extinct</th>\n",
              "      <th>main_species</th>\n",
              "    </tr>\n",
              "  </thead>\n",
              "  <tbody>\n",
              "    <tr>\n",
              "      <th>0</th>\n",
              "      <td>0</td>\n",
              "      <td>0</td>\n",
              "      <td>0.0</td>\n",
              "      <td>184867</td>\n",
              "      <td>stinging nettle</td>\n",
              "      <td>urtica-dioica</td>\n",
              "      <td>Urtica dioica</td>\n",
              "      <td>190500.0</td>\n",
              "      <td>https://bs.plantnet.org/image/o/85256a1c2c098e...</td>\n",
              "      <td>1753.0</td>\n",
              "      <td>Sp. Pl.: 984 (1753)</td>\n",
              "      <td>L.</td>\n",
              "      <td>Nettle family</td>\n",
              "      <td>1028.0</td>\n",
              "      <td>Europe to Siberia and W. China, NW. Africa</td>\n",
              "      <td>False</td>\n",
              "      <td>[{'id': 190500, 'common_name': 'Stinging nettl...</td>\n",
              "      <td>[{'id': 1143593, 'common_name': 'Stinging nett...</td>\n",
              "      <td>[{'id': 190521, 'common_name': 'Stinging nettl...</td>\n",
              "      <td>[]</td>\n",
              "      <td>[]</td>\n",
              "      <td>[]</td>\n",
              "      <td>[{'last_update': '2020-06-21T20:55:42.484Z', '...</td>\n",
              "      <td>/api/v1/plants/urtica-dioica</td>\n",
              "      <td>/api/v1/plants/urtica-dioica/species</td>\n",
              "      <td>/api/v1/genus/urtica</td>\n",
              "      <td>190500.0</td>\n",
              "      <td>Stinging nettle</td>\n",
              "      <td>urtica-dioica</td>\n",
              "      <td>Urtica dioica</td>\n",
              "      <td>1753.0</td>\n",
              "      <td>Sp. Pl.: 984 (1753)</td>\n",
              "      <td>L.</td>\n",
              "      <td>accepted</td>\n",
              "      <td>species</td>\n",
              "      <td>Nettle family</td>\n",
              "      <td>1028.0</td>\n",
              "      <td>Europe to Siberia and W. China, NW. Africa</td>\n",
              "      <td>False</td>\n",
              "      <td>https://bs.plantnet.org/image/o/85256a1c2c098e...</td>\n",
              "      <td>...</td>\n",
              "      <td>5.0</td>\n",
              "      <td>5.0</td>\n",
              "      <td>NaN</td>\n",
              "      <td>NaN</td>\n",
              "      <td>NaN</td>\n",
              "      <td>NaN</td>\n",
              "      <td>NaN</td>\n",
              "      <td>NaN</td>\n",
              "      <td>NaN</td>\n",
              "      <td>NaN</td>\n",
              "      <td>NaN</td>\n",
              "      <td>NaN</td>\n",
              "      <td>9.0</td>\n",
              "      <td>0.0</td>\n",
              "      <td>3.0</td>\n",
              "      <td>NaN</td>\n",
              "      <td>/api/v1/species/urtica-dioica</td>\n",
              "      <td>/api/v1/plants/urtica-dioica</td>\n",
              "      <td>/api/v1/genus/urtica</td>\n",
              "      <td>1028</td>\n",
              "      <td>Urtica</td>\n",
              "      <td>urtica</td>\n",
              "      <td>/api/v1/genus/urtica</td>\n",
              "      <td>/api/v1/genus/urtica/plants</td>\n",
              "      <td>/api/v1/genus/urtica/species</td>\n",
              "      <td>/api/v1/families/urticaceae</td>\n",
              "      <td>193</td>\n",
              "      <td>Urticaceae</td>\n",
              "      <td>Nettle family</td>\n",
              "      <td>urticaceae</td>\n",
              "      <td>/api/v1/families/urticaceae</td>\n",
              "      <td>/api/v1/division_orders/urticales</td>\n",
              "      <td>/api/v1/families/urticaceae/genus</td>\n",
              "      <td>NaN</td>\n",
              "      <td>NaN</td>\n",
              "      <td>NaN</td>\n",
              "      <td>NaN</td>\n",
              "      <td>NaN</td>\n",
              "      <td>NaN</td>\n",
              "      <td>NaN</td>\n",
              "    </tr>\n",
              "    <tr>\n",
              "      <th>1</th>\n",
              "      <td>1</td>\n",
              "      <td>1</td>\n",
              "      <td>0.0</td>\n",
              "      <td>121324</td>\n",
              "      <td>orchardgrass</td>\n",
              "      <td>dactylis-glomerata</td>\n",
              "      <td>Dactylis glomerata</td>\n",
              "      <td>126957.0</td>\n",
              "      <td>https://bs.plantnet.org/image/o/428f40dadfa028...</td>\n",
              "      <td>1753.0</td>\n",
              "      <td>Sp. Pl.: 71 (1753)</td>\n",
              "      <td>L.</td>\n",
              "      <td>Grass family</td>\n",
              "      <td>2284.0</td>\n",
              "      <td>Macaronesia, Medit. to Temp. Eurasia</td>\n",
              "      <td>False</td>\n",
              "      <td>[{'id': 126957, 'common_name': 'Orchardgrass',...</td>\n",
              "      <td>[{'id': 973756, 'common_name': 'Orchardgrass',...</td>\n",
              "      <td>[]</td>\n",
              "      <td>[]</td>\n",
              "      <td>[]</td>\n",
              "      <td>[]</td>\n",
              "      <td>[{'last_update': '2020-06-21T20:54:52.110Z', '...</td>\n",
              "      <td>/api/v1/plants/dactylis-glomerata</td>\n",
              "      <td>/api/v1/plants/dactylis-glomerata/species</td>\n",
              "      <td>/api/v1/genus/dactylis</td>\n",
              "      <td>126957.0</td>\n",
              "      <td>Orchardgrass</td>\n",
              "      <td>dactylis-glomerata</td>\n",
              "      <td>Dactylis glomerata</td>\n",
              "      <td>1753.0</td>\n",
              "      <td>Sp. Pl.: 71 (1753)</td>\n",
              "      <td>L.</td>\n",
              "      <td>accepted</td>\n",
              "      <td>species</td>\n",
              "      <td>Grass family</td>\n",
              "      <td>2284.0</td>\n",
              "      <td>Macaronesia, Medit. to Temp. Eurasia</td>\n",
              "      <td>False</td>\n",
              "      <td>https://bs.plantnet.org/image/o/428f40dadfa028...</td>\n",
              "      <td>...</td>\n",
              "      <td>7.0</td>\n",
              "      <td>5.0</td>\n",
              "      <td>NaN</td>\n",
              "      <td>NaN</td>\n",
              "      <td>NaN</td>\n",
              "      <td>660.0</td>\n",
              "      <td>1524.0</td>\n",
              "      <td>30.0</td>\n",
              "      <td>-22.0</td>\n",
              "      <td>-30.0</td>\n",
              "      <td>NaN</td>\n",
              "      <td>NaN</td>\n",
              "      <td>7.0</td>\n",
              "      <td>0.0</td>\n",
              "      <td>2.0</td>\n",
              "      <td>NaN</td>\n",
              "      <td>/api/v1/species/dactylis-glomerata</td>\n",
              "      <td>/api/v1/plants/dactylis-glomerata</td>\n",
              "      <td>/api/v1/genus/dactylis</td>\n",
              "      <td>2284</td>\n",
              "      <td>Dactylis</td>\n",
              "      <td>dactylis</td>\n",
              "      <td>/api/v1/genus/dactylis</td>\n",
              "      <td>/api/v1/genus/dactylis/plants</td>\n",
              "      <td>/api/v1/genus/dactylis/species</td>\n",
              "      <td>/api/v1/families/poaceae</td>\n",
              "      <td>21</td>\n",
              "      <td>Poaceae</td>\n",
              "      <td>Grass family</td>\n",
              "      <td>poaceae</td>\n",
              "      <td>/api/v1/families/poaceae</td>\n",
              "      <td>/api/v1/division_orders/cyperales</td>\n",
              "      <td>/api/v1/families/poaceae/genus</td>\n",
              "      <td>['Saudi Arabia', 'Yemen']</td>\n",
              "      <td>[{'id': 18, 'name': 'Saudi Arabia', 'slug': 's...</td>\n",
              "      <td>NaN</td>\n",
              "      <td>NaN</td>\n",
              "      <td>NaN</td>\n",
              "      <td>NaN</td>\n",
              "      <td>NaN</td>\n",
              "    </tr>\n",
              "    <tr>\n",
              "      <th>2</th>\n",
              "      <td>2</td>\n",
              "      <td>2</td>\n",
              "      <td>0.0</td>\n",
              "      <td>162255</td>\n",
              "      <td>narrowleaf plantain</td>\n",
              "      <td>plantago-lanceolata</td>\n",
              "      <td>Plantago lanceolata</td>\n",
              "      <td>167888.0</td>\n",
              "      <td>https://bs.plantnet.org/image/o/78a8374f009e6e...</td>\n",
              "      <td>1753.0</td>\n",
              "      <td>Sp. Pl.: 113 (1753)</td>\n",
              "      <td>L.</td>\n",
              "      <td>Plantain family</td>\n",
              "      <td>5418.0</td>\n",
              "      <td>Macaronesia, N. Africa to Mauritania, Temp. Eu...</td>\n",
              "      <td>False</td>\n",
              "      <td>[{'id': 167888, 'common_name': 'Narrowleaf pla...</td>\n",
              "      <td>[]</td>\n",
              "      <td>[]</td>\n",
              "      <td>[]</td>\n",
              "      <td>[]</td>\n",
              "      <td>[]</td>\n",
              "      <td>[{'last_update': '2020-06-21T20:37:55.090Z', '...</td>\n",
              "      <td>/api/v1/plants/plantago-lanceolata</td>\n",
              "      <td>/api/v1/plants/plantago-lanceolata/species</td>\n",
              "      <td>/api/v1/genus/plantago</td>\n",
              "      <td>167888.0</td>\n",
              "      <td>Narrowleaf plantain</td>\n",
              "      <td>plantago-lanceolata</td>\n",
              "      <td>Plantago lanceolata</td>\n",
              "      <td>1753.0</td>\n",
              "      <td>Sp. Pl.: 113 (1753)</td>\n",
              "      <td>L.</td>\n",
              "      <td>accepted</td>\n",
              "      <td>species</td>\n",
              "      <td>Plantain family</td>\n",
              "      <td>5418.0</td>\n",
              "      <td>Macaronesia, N. Africa to Mauritania, Temp. Eu...</td>\n",
              "      <td>False</td>\n",
              "      <td>https://bs.plantnet.org/image/o/78a8374f009e6e...</td>\n",
              "      <td>...</td>\n",
              "      <td>7.0</td>\n",
              "      <td>4.0</td>\n",
              "      <td>NaN</td>\n",
              "      <td>NaN</td>\n",
              "      <td>NaN</td>\n",
              "      <td>NaN</td>\n",
              "      <td>NaN</td>\n",
              "      <td>NaN</td>\n",
              "      <td>NaN</td>\n",
              "      <td>NaN</td>\n",
              "      <td>NaN</td>\n",
              "      <td>NaN</td>\n",
              "      <td>6.0</td>\n",
              "      <td>0.0</td>\n",
              "      <td>3.0</td>\n",
              "      <td>NaN</td>\n",
              "      <td>/api/v1/species/plantago-lanceolata</td>\n",
              "      <td>/api/v1/plants/plantago-lanceolata</td>\n",
              "      <td>/api/v1/genus/plantago</td>\n",
              "      <td>5418</td>\n",
              "      <td>Plantago</td>\n",
              "      <td>plantago</td>\n",
              "      <td>/api/v1/genus/plantago</td>\n",
              "      <td>/api/v1/genus/plantago/plants</td>\n",
              "      <td>/api/v1/genus/plantago/species</td>\n",
              "      <td>/api/v1/families/plantaginaceae</td>\n",
              "      <td>424</td>\n",
              "      <td>Plantaginaceae</td>\n",
              "      <td>Plantain family</td>\n",
              "      <td>plantaginaceae</td>\n",
              "      <td>/api/v1/families/plantaginaceae</td>\n",
              "      <td>/api/v1/division_orders/plantaginales</td>\n",
              "      <td>/api/v1/families/plantaginaceae/genus</td>\n",
              "      <td>NaN</td>\n",
              "      <td>NaN</td>\n",
              "      <td>NaN</td>\n",
              "      <td>NaN</td>\n",
              "      <td>NaN</td>\n",
              "      <td>NaN</td>\n",
              "      <td>NaN</td>\n",
              "    </tr>\n",
              "    <tr>\n",
              "      <th>3</th>\n",
              "      <td>3</td>\n",
              "      <td>3</td>\n",
              "      <td>0.0</td>\n",
              "      <td>167694</td>\n",
              "      <td>English oak</td>\n",
              "      <td>quercus-robur</td>\n",
              "      <td>Quercus robur</td>\n",
              "      <td>173327.0</td>\n",
              "      <td>https://bs.plantnet.org/image/o/2292b670683abd...</td>\n",
              "      <td>1753.0</td>\n",
              "      <td>Sp. Pl.: 996 (1753)</td>\n",
              "      <td>L.</td>\n",
              "      <td>Beech family</td>\n",
              "      <td>5778.0</td>\n",
              "      <td>Europe to Iran</td>\n",
              "      <td>False</td>\n",
              "      <td>[{'id': 173327, 'common_name': 'English oak', ...</td>\n",
              "      <td>[{'id': 677665, 'common_name': 'English oak', ...</td>\n",
              "      <td>[]</td>\n",
              "      <td>[]</td>\n",
              "      <td>[]</td>\n",
              "      <td>[]</td>\n",
              "      <td>[{'last_update': '2020-06-21T20:53:28.430Z', '...</td>\n",
              "      <td>/api/v1/plants/quercus-robur</td>\n",
              "      <td>/api/v1/plants/quercus-robur/species</td>\n",
              "      <td>/api/v1/genus/quercus</td>\n",
              "      <td>173327.0</td>\n",
              "      <td>English oak</td>\n",
              "      <td>quercus-robur</td>\n",
              "      <td>Quercus robur</td>\n",
              "      <td>1753.0</td>\n",
              "      <td>Sp. Pl.: 996 (1753)</td>\n",
              "      <td>L.</td>\n",
              "      <td>accepted</td>\n",
              "      <td>species</td>\n",
              "      <td>Beech family</td>\n",
              "      <td>5778.0</td>\n",
              "      <td>Europe to Iran</td>\n",
              "      <td>False</td>\n",
              "      <td>https://bs.plantnet.org/image/o/2292b670683abd...</td>\n",
              "      <td>...</td>\n",
              "      <td>7.0</td>\n",
              "      <td>5.0</td>\n",
              "      <td>NaN</td>\n",
              "      <td>NaN</td>\n",
              "      <td>NaN</td>\n",
              "      <td>NaN</td>\n",
              "      <td>NaN</td>\n",
              "      <td>NaN</td>\n",
              "      <td>NaN</td>\n",
              "      <td>NaN</td>\n",
              "      <td>NaN</td>\n",
              "      <td>NaN</td>\n",
              "      <td>5.0</td>\n",
              "      <td>0.0</td>\n",
              "      <td>3.0</td>\n",
              "      <td>NaN</td>\n",
              "      <td>/api/v1/species/quercus-robur</td>\n",
              "      <td>/api/v1/plants/quercus-robur</td>\n",
              "      <td>/api/v1/genus/quercus</td>\n",
              "      <td>5778</td>\n",
              "      <td>Quercus</td>\n",
              "      <td>quercus</td>\n",
              "      <td>/api/v1/genus/quercus</td>\n",
              "      <td>/api/v1/genus/quercus/plants</td>\n",
              "      <td>/api/v1/genus/quercus/species</td>\n",
              "      <td>/api/v1/families/fagaceae</td>\n",
              "      <td>242</td>\n",
              "      <td>Fagaceae</td>\n",
              "      <td>Beech family</td>\n",
              "      <td>fagaceae</td>\n",
              "      <td>/api/v1/families/fagaceae</td>\n",
              "      <td>/api/v1/division_orders/fagales</td>\n",
              "      <td>/api/v1/families/fagaceae/genus</td>\n",
              "      <td>NaN</td>\n",
              "      <td>NaN</td>\n",
              "      <td>NaN</td>\n",
              "      <td>NaN</td>\n",
              "      <td>NaN</td>\n",
              "      <td>NaN</td>\n",
              "      <td>NaN</td>\n",
              "    </tr>\n",
              "    <tr>\n",
              "      <th>4</th>\n",
              "      <td>4</td>\n",
              "      <td>4</td>\n",
              "      <td>0.0</td>\n",
              "      <td>131392</td>\n",
              "      <td>red fescue</td>\n",
              "      <td>festuca-rubra</td>\n",
              "      <td>Festuca rubra</td>\n",
              "      <td>137025.0</td>\n",
              "      <td>https://bs.plantnet.org/image/o/0b932c8a275efc...</td>\n",
              "      <td>1753.0</td>\n",
              "      <td>Sp. pl. 1:74.  1753</td>\n",
              "      <td>L.</td>\n",
              "      <td>Grass family</td>\n",
              "      <td>1102.0</td>\n",
              "      <td>Subarctic &amp; Temp. Northern Hemisphere to Mexico</td>\n",
              "      <td>False</td>\n",
              "      <td>[{'id': 137025, 'common_name': 'Red fescue', '...</td>\n",
              "      <td>[{'id': 137057, 'common_name': 'red fescue', '...</td>\n",
              "      <td>[]</td>\n",
              "      <td>[]</td>\n",
              "      <td>[]</td>\n",
              "      <td>[]</td>\n",
              "      <td>[{'last_update': '2020-06-21T20:23:54.352Z', '...</td>\n",
              "      <td>/api/v1/plants/festuca-rubra</td>\n",
              "      <td>/api/v1/plants/festuca-rubra/species</td>\n",
              "      <td>/api/v1/genus/festuca</td>\n",
              "      <td>137025.0</td>\n",
              "      <td>Red fescue</td>\n",
              "      <td>festuca-rubra</td>\n",
              "      <td>Festuca rubra</td>\n",
              "      <td>1753.0</td>\n",
              "      <td>Sp. pl. 1:74.  1753</td>\n",
              "      <td>L.</td>\n",
              "      <td>accepted</td>\n",
              "      <td>species</td>\n",
              "      <td>Grass family</td>\n",
              "      <td>1102.0</td>\n",
              "      <td>Subarctic &amp; Temp. Northern Hemisphere to Mexico</td>\n",
              "      <td>False</td>\n",
              "      <td>https://bs.plantnet.org/image/o/0b932c8a275efc...</td>\n",
              "      <td>...</td>\n",
              "      <td>9.0</td>\n",
              "      <td>3.0</td>\n",
              "      <td>NaN</td>\n",
              "      <td>NaN</td>\n",
              "      <td>NaN</td>\n",
              "      <td>609.0</td>\n",
              "      <td>1524.0</td>\n",
              "      <td>30.0</td>\n",
              "      <td>-40.0</td>\n",
              "      <td>-40.0</td>\n",
              "      <td>NaN</td>\n",
              "      <td>NaN</td>\n",
              "      <td>1.0</td>\n",
              "      <td>0.0</td>\n",
              "      <td>4.0</td>\n",
              "      <td>NaN</td>\n",
              "      <td>/api/v1/species/festuca-rubra</td>\n",
              "      <td>/api/v1/plants/festuca-rubra</td>\n",
              "      <td>/api/v1/genus/festuca</td>\n",
              "      <td>1102</td>\n",
              "      <td>Festuca</td>\n",
              "      <td>festuca</td>\n",
              "      <td>/api/v1/genus/festuca</td>\n",
              "      <td>/api/v1/genus/festuca/plants</td>\n",
              "      <td>/api/v1/genus/festuca/species</td>\n",
              "      <td>/api/v1/families/poaceae</td>\n",
              "      <td>21</td>\n",
              "      <td>Poaceae</td>\n",
              "      <td>Grass family</td>\n",
              "      <td>poaceae</td>\n",
              "      <td>/api/v1/families/poaceae</td>\n",
              "      <td>/api/v1/division_orders/cyperales</td>\n",
              "      <td>/api/v1/families/poaceae/genus</td>\n",
              "      <td>['Morocco', 'Tunisia']</td>\n",
              "      <td>[{'id': 131, 'name': 'Morocco', 'slug': 'mor',...</td>\n",
              "      <td>NaN</td>\n",
              "      <td>NaN</td>\n",
              "      <td>NaN</td>\n",
              "      <td>NaN</td>\n",
              "      <td>NaN</td>\n",
              "    </tr>\n",
              "  </tbody>\n",
              "</table>\n",
              "<p>5 rows × 123 columns</p>\n",
              "</div>"
            ],
            "text/plain": [
              "   Unnamed: 0  Unnamed: 0.1  ...  main_species.distributions.extinct  main_species\n",
              "0           0             0  ...                                 NaN           NaN\n",
              "1           1             1  ...                                 NaN           NaN\n",
              "2           2             2  ...                                 NaN           NaN\n",
              "3           3             3  ...                                 NaN           NaN\n",
              "4           4             4  ...                                 NaN           NaN\n",
              "\n",
              "[5 rows x 123 columns]"
            ]
          },
          "metadata": {
            "tags": []
          },
          "execution_count": 4
        }
      ]
    },
    {
      "cell_type": "code",
      "metadata": {
        "colab": {
          "base_uri": "https://localhost:8080/",
          "height": 334
        },
        "id": "uwL6Upzz3HCe",
        "outputId": "4f29e159-738b-4bd7-ff45-5cdbdc41d70e"
      },
      "source": [
        "nw_plants.describe()"
      ],
      "execution_count": null,
      "outputs": [
        {
          "output_type": "execute_result",
          "data": {
            "text/html": [
              "<div>\n",
              "<style scoped>\n",
              "    .dataframe tbody tr th:only-of-type {\n",
              "        vertical-align: middle;\n",
              "    }\n",
              "\n",
              "    .dataframe tbody tr th {\n",
              "        vertical-align: top;\n",
              "    }\n",
              "\n",
              "    .dataframe thead th {\n",
              "        text-align: right;\n",
              "    }\n",
              "</style>\n",
              "<table border=\"1\" class=\"dataframe\">\n",
              "  <thead>\n",
              "    <tr style=\"text-align: right;\">\n",
              "      <th></th>\n",
              "      <th>Unnamed: 0</th>\n",
              "      <th>Unnamed: 0.1</th>\n",
              "      <th>index</th>\n",
              "      <th>id</th>\n",
              "      <th>main_species_id</th>\n",
              "      <th>year</th>\n",
              "      <th>genus_id</th>\n",
              "      <th>main_species.id</th>\n",
              "      <th>main_species.year</th>\n",
              "      <th>main_species.genus_id</th>\n",
              "      <th>main_species.fruit_or_seed.shape</th>\n",
              "      <th>main_species.specifications.average_height.cm</th>\n",
              "      <th>main_species.specifications.maximum_height.cm</th>\n",
              "      <th>main_species.growth.days_to_harvest</th>\n",
              "      <th>main_species.growth.row_spacing.cm</th>\n",
              "      <th>main_species.growth.spread.cm</th>\n",
              "      <th>main_species.growth.ph_maximum</th>\n",
              "      <th>main_species.growth.ph_minimum</th>\n",
              "      <th>main_species.growth.light</th>\n",
              "      <th>main_species.growth.atmospheric_humidity</th>\n",
              "      <th>main_species.growth.growth_months</th>\n",
              "      <th>main_species.growth.fruit_months</th>\n",
              "      <th>main_species.growth.minimum_precipitation.mm</th>\n",
              "      <th>main_species.growth.maximum_precipitation.mm</th>\n",
              "      <th>main_species.growth.minimum_root_depth.cm</th>\n",
              "      <th>main_species.growth.minimum_temperature.deg_f</th>\n",
              "      <th>main_species.growth.minimum_temperature.deg_c</th>\n",
              "      <th>main_species.growth.maximum_temperature.deg_f</th>\n",
              "      <th>main_species.growth.maximum_temperature.deg_c</th>\n",
              "      <th>main_species.growth.soil_nutriments</th>\n",
              "      <th>main_species.growth.soil_salinity</th>\n",
              "      <th>main_species.growth.soil_texture</th>\n",
              "      <th>main_species.growth.soil_humidity</th>\n",
              "      <th>genus.id</th>\n",
              "      <th>family.id</th>\n",
              "      <th>main_species</th>\n",
              "    </tr>\n",
              "  </thead>\n",
              "  <tbody>\n",
              "    <tr>\n",
              "      <th>count</th>\n",
              "      <td>5373.000000</td>\n",
              "      <td>5373.000000</td>\n",
              "      <td>1452.0</td>\n",
              "      <td>5373.000000</td>\n",
              "      <td>5.369000e+03</td>\n",
              "      <td>5229.000000</td>\n",
              "      <td>5280.000000</td>\n",
              "      <td>5.280000e+03</td>\n",
              "      <td>5229.000000</td>\n",
              "      <td>5280.000000</td>\n",
              "      <td>0.0</td>\n",
              "      <td>980.000000</td>\n",
              "      <td>972.000000</td>\n",
              "      <td>2.000000</td>\n",
              "      <td>12.000000</td>\n",
              "      <td>10.000000</td>\n",
              "      <td>1532.000000</td>\n",
              "      <td>1532.000000</td>\n",
              "      <td>834.000000</td>\n",
              "      <td>829.000000</td>\n",
              "      <td>0.0</td>\n",
              "      <td>0.0</td>\n",
              "      <td>902.000000</td>\n",
              "      <td>902.000000</td>\n",
              "      <td>912.000000</td>\n",
              "      <td>917.000000</td>\n",
              "      <td>917.000000</td>\n",
              "      <td>3.000000</td>\n",
              "      <td>3.000000</td>\n",
              "      <td>832.000000</td>\n",
              "      <td>833.000000</td>\n",
              "      <td>833.000000</td>\n",
              "      <td>2.000000</td>\n",
              "      <td>5373.000000</td>\n",
              "      <td>5373.000000</td>\n",
              "      <td>0.0</td>\n",
              "    </tr>\n",
              "    <tr>\n",
              "      <th>mean</th>\n",
              "      <td>2686.000000</td>\n",
              "      <td>196.059185</td>\n",
              "      <td>0.0</td>\n",
              "      <td>173328.334822</td>\n",
              "      <td>3.006066e+05</td>\n",
              "      <td>1875.441193</td>\n",
              "      <td>2888.054924</td>\n",
              "      <td>2.931099e+05</td>\n",
              "      <td>1875.441193</td>\n",
              "      <td>2888.054924</td>\n",
              "      <td>NaN</td>\n",
              "      <td>332.925510</td>\n",
              "      <td>359.724280</td>\n",
              "      <td>57.500000</td>\n",
              "      <td>22.166667</td>\n",
              "      <td>53.200000</td>\n",
              "      <td>7.399347</td>\n",
              "      <td>5.937990</td>\n",
              "      <td>7.330935</td>\n",
              "      <td>5.841978</td>\n",
              "      <td>NaN</td>\n",
              "      <td>NaN</td>\n",
              "      <td>435.721729</td>\n",
              "      <td>1240.761641</td>\n",
              "      <td>31.745614</td>\n",
              "      <td>-21.087241</td>\n",
              "      <td>-29.486369</td>\n",
              "      <td>89.000000</td>\n",
              "      <td>31.666667</td>\n",
              "      <td>5.292067</td>\n",
              "      <td>0.354142</td>\n",
              "      <td>2.927971</td>\n",
              "      <td>2.500000</td>\n",
              "      <td>2887.844593</td>\n",
              "      <td>107.465476</td>\n",
              "      <td>NaN</td>\n",
              "    </tr>\n",
              "    <tr>\n",
              "      <th>std</th>\n",
              "      <td>1551.195829</td>\n",
              "      <td>388.984440</td>\n",
              "      <td>0.0</td>\n",
              "      <td>100364.513253</td>\n",
              "      <td>3.442175e+05</td>\n",
              "      <td>73.989449</td>\n",
              "      <td>2657.404981</td>\n",
              "      <td>3.358916e+05</td>\n",
              "      <td>73.989449</td>\n",
              "      <td>2657.404981</td>\n",
              "      <td>NaN</td>\n",
              "      <td>853.448157</td>\n",
              "      <td>979.213207</td>\n",
              "      <td>24.748737</td>\n",
              "      <td>21.251025</td>\n",
              "      <td>28.502631</td>\n",
              "      <td>0.849297</td>\n",
              "      <td>0.949017</td>\n",
              "      <td>1.237985</td>\n",
              "      <td>1.903562</td>\n",
              "      <td>NaN</td>\n",
              "      <td>NaN</td>\n",
              "      <td>242.822341</td>\n",
              "      <td>726.700780</td>\n",
              "      <td>18.892700</td>\n",
              "      <td>21.600659</td>\n",
              "      <td>12.037019</td>\n",
              "      <td>5.196152</td>\n",
              "      <td>2.886751</td>\n",
              "      <td>1.905097</td>\n",
              "      <td>1.324024</td>\n",
              "      <td>1.289603</td>\n",
              "      <td>0.707107</td>\n",
              "      <td>2656.346941</td>\n",
              "      <td>163.047095</td>\n",
              "      <td>NaN</td>\n",
              "    </tr>\n",
              "    <tr>\n",
              "      <th>min</th>\n",
              "      <td>0.000000</td>\n",
              "      <td>0.000000</td>\n",
              "      <td>0.0</td>\n",
              "      <td>95493.000000</td>\n",
              "      <td>1.011260e+05</td>\n",
              "      <td>1753.000000</td>\n",
              "      <td>3.000000</td>\n",
              "      <td>1.011260e+05</td>\n",
              "      <td>1753.000000</td>\n",
              "      <td>3.000000</td>\n",
              "      <td>NaN</td>\n",
              "      <td>3.000000</td>\n",
              "      <td>3.000000</td>\n",
              "      <td>40.000000</td>\n",
              "      <td>2.000000</td>\n",
              "      <td>10.000000</td>\n",
              "      <td>4.000000</td>\n",
              "      <td>3.000000</td>\n",
              "      <td>2.000000</td>\n",
              "      <td>1.000000</td>\n",
              "      <td>NaN</td>\n",
              "      <td>NaN</td>\n",
              "      <td>50.000000</td>\n",
              "      <td>279.000000</td>\n",
              "      <td>0.000000</td>\n",
              "      <td>-76.000000</td>\n",
              "      <td>-60.000000</td>\n",
              "      <td>86.000000</td>\n",
              "      <td>30.000000</td>\n",
              "      <td>1.000000</td>\n",
              "      <td>0.000000</td>\n",
              "      <td>1.000000</td>\n",
              "      <td>2.000000</td>\n",
              "      <td>3.000000</td>\n",
              "      <td>1.000000</td>\n",
              "      <td>NaN</td>\n",
              "    </tr>\n",
              "    <tr>\n",
              "      <th>25%</th>\n",
              "      <td>1343.000000</td>\n",
              "      <td>0.000000</td>\n",
              "      <td>0.0</td>\n",
              "      <td>117776.000000</td>\n",
              "      <td>1.310900e+05</td>\n",
              "      <td>1827.000000</td>\n",
              "      <td>1169.500000</td>\n",
              "      <td>1.305048e+05</td>\n",
              "      <td>1827.000000</td>\n",
              "      <td>1169.500000</td>\n",
              "      <td>NaN</td>\n",
              "      <td>45.000000</td>\n",
              "      <td>45.000000</td>\n",
              "      <td>48.750000</td>\n",
              "      <td>8.750000</td>\n",
              "      <td>33.000000</td>\n",
              "      <td>7.000000</td>\n",
              "      <td>5.200000</td>\n",
              "      <td>7.000000</td>\n",
              "      <td>4.000000</td>\n",
              "      <td>NaN</td>\n",
              "      <td>NaN</td>\n",
              "      <td>254.000000</td>\n",
              "      <td>711.000000</td>\n",
              "      <td>20.000000</td>\n",
              "      <td>-31.000000</td>\n",
              "      <td>-35.000000</td>\n",
              "      <td>86.000000</td>\n",
              "      <td>30.000000</td>\n",
              "      <td>4.000000</td>\n",
              "      <td>0.000000</td>\n",
              "      <td>2.000000</td>\n",
              "      <td>2.250000</td>\n",
              "      <td>1165.000000</td>\n",
              "      <td>13.000000</td>\n",
              "      <td>NaN</td>\n",
              "    </tr>\n",
              "    <tr>\n",
              "      <th>50%</th>\n",
              "      <td>2686.000000</td>\n",
              "      <td>0.000000</td>\n",
              "      <td>0.0</td>\n",
              "      <td>145533.000000</td>\n",
              "      <td>1.588130e+05</td>\n",
              "      <td>1876.000000</td>\n",
              "      <td>2266.000000</td>\n",
              "      <td>1.584315e+05</td>\n",
              "      <td>1876.000000</td>\n",
              "      <td>2266.000000</td>\n",
              "      <td>NaN</td>\n",
              "      <td>91.000000</td>\n",
              "      <td>91.000000</td>\n",
              "      <td>57.500000</td>\n",
              "      <td>17.500000</td>\n",
              "      <td>45.000000</td>\n",
              "      <td>7.500000</td>\n",
              "      <td>6.000000</td>\n",
              "      <td>8.000000</td>\n",
              "      <td>5.000000</td>\n",
              "      <td>NaN</td>\n",
              "      <td>NaN</td>\n",
              "      <td>355.000000</td>\n",
              "      <td>1270.000000</td>\n",
              "      <td>30.000000</td>\n",
              "      <td>-31.000000</td>\n",
              "      <td>-35.000000</td>\n",
              "      <td>86.000000</td>\n",
              "      <td>30.000000</td>\n",
              "      <td>6.000000</td>\n",
              "      <td>0.000000</td>\n",
              "      <td>3.000000</td>\n",
              "      <td>2.500000</td>\n",
              "      <td>2265.000000</td>\n",
              "      <td>26.000000</td>\n",
              "      <td>NaN</td>\n",
              "    </tr>\n",
              "    <tr>\n",
              "      <th>75%</th>\n",
              "      <td>4029.000000</td>\n",
              "      <td>108.000000</td>\n",
              "      <td>0.0</td>\n",
              "      <td>173773.000000</td>\n",
              "      <td>1.872510e+05</td>\n",
              "      <td>1917.000000</td>\n",
              "      <td>4264.000000</td>\n",
              "      <td>1.863485e+05</td>\n",
              "      <td>1917.000000</td>\n",
              "      <td>4264.000000</td>\n",
              "      <td>NaN</td>\n",
              "      <td>179.750000</td>\n",
              "      <td>182.000000</td>\n",
              "      <td>66.250000</td>\n",
              "      <td>30.000000</td>\n",
              "      <td>82.500000</td>\n",
              "      <td>8.000000</td>\n",
              "      <td>7.000000</td>\n",
              "      <td>8.000000</td>\n",
              "      <td>8.000000</td>\n",
              "      <td>NaN</td>\n",
              "      <td>NaN</td>\n",
              "      <td>508.000000</td>\n",
              "      <td>1524.000000</td>\n",
              "      <td>35.000000</td>\n",
              "      <td>-13.000000</td>\n",
              "      <td>-25.000000</td>\n",
              "      <td>90.500000</td>\n",
              "      <td>32.500000</td>\n",
              "      <td>7.000000</td>\n",
              "      <td>0.000000</td>\n",
              "      <td>4.000000</td>\n",
              "      <td>2.750000</td>\n",
              "      <td>4298.000000</td>\n",
              "      <td>117.000000</td>\n",
              "      <td>NaN</td>\n",
              "    </tr>\n",
              "    <tr>\n",
              "      <th>max</th>\n",
              "      <td>5372.000000</td>\n",
              "      <td>1451.000000</td>\n",
              "      <td>0.0</td>\n",
              "      <td>617088.000000</td>\n",
              "      <td>1.261870e+06</td>\n",
              "      <td>2018.000000</td>\n",
              "      <td>43701.000000</td>\n",
              "      <td>1.261870e+06</td>\n",
              "      <td>2018.000000</td>\n",
              "      <td>43701.000000</td>\n",
              "      <td>NaN</td>\n",
              "      <td>7010.000000</td>\n",
              "      <td>11550.000000</td>\n",
              "      <td>75.000000</td>\n",
              "      <td>76.000000</td>\n",
              "      <td>90.000000</td>\n",
              "      <td>10.000000</td>\n",
              "      <td>8.000000</td>\n",
              "      <td>9.000000</td>\n",
              "      <td>9.000000</td>\n",
              "      <td>NaN</td>\n",
              "      <td>NaN</td>\n",
              "      <td>1625.000000</td>\n",
              "      <td>7010.000000</td>\n",
              "      <td>152.000000</td>\n",
              "      <td>51.000000</td>\n",
              "      <td>11.000000</td>\n",
              "      <td>95.000000</td>\n",
              "      <td>35.000000</td>\n",
              "      <td>9.000000</td>\n",
              "      <td>9.000000</td>\n",
              "      <td>9.000000</td>\n",
              "      <td>3.000000</td>\n",
              "      <td>43701.000000</td>\n",
              "      <td>792.000000</td>\n",
              "      <td>NaN</td>\n",
              "    </tr>\n",
              "  </tbody>\n",
              "</table>\n",
              "</div>"
            ],
            "text/plain": [
              "        Unnamed: 0  Unnamed: 0.1  ...    family.id  main_species\n",
              "count  5373.000000   5373.000000  ...  5373.000000           0.0\n",
              "mean   2686.000000    196.059185  ...   107.465476           NaN\n",
              "std    1551.195829    388.984440  ...   163.047095           NaN\n",
              "min       0.000000      0.000000  ...     1.000000           NaN\n",
              "25%    1343.000000      0.000000  ...    13.000000           NaN\n",
              "50%    2686.000000      0.000000  ...    26.000000           NaN\n",
              "75%    4029.000000    108.000000  ...   117.000000           NaN\n",
              "max    5372.000000   1451.000000  ...   792.000000           NaN\n",
              "\n",
              "[8 rows x 36 columns]"
            ]
          },
          "metadata": {
            "tags": []
          },
          "execution_count": 7
        }
      ]
    },
    {
      "cell_type": "markdown",
      "metadata": {
        "id": "TvNZj5EbBedz"
      },
      "source": [
        "## Distribution of the Number of Plant Discoveries per Year"
      ]
    },
    {
      "cell_type": "code",
      "metadata": {
        "colab": {
          "base_uri": "https://localhost:8080/",
          "height": 333
        },
        "id": "Q40NApcH2xwh",
        "outputId": "2444f089-9e1a-4bb3-ee8d-b06bc9df1ce1"
      },
      "source": [
        "nw_plants.groupby('year')['id'].count().plot(title='Number of Plants that Have been Discovered Since 1753 \\n (NW U.S Plants)', xlabel=\"Year\", color=\"limegreen\")"
      ],
      "execution_count": null,
      "outputs": [
        {
          "output_type": "execute_result",
          "data": {
            "text/plain": [
              "<matplotlib.axes._subplots.AxesSubplot at 0x7fe46442e590>"
            ]
          },
          "metadata": {
            "tags": []
          },
          "execution_count": 91
        },
        {
          "output_type": "display_data",
          "data": {
            "image/png": "[encoded data removed]",
            "text/plain": [
              "<Figure size 432x288 with 1 Axes>"
            ]
          },
          "metadata": {
            "tags": []
          }
        }
      ]
    },
    {
      "cell_type": "code",
      "metadata": {
        "colab": {
          "base_uri": "https://localhost:8080/",
          "height": 333
        },
        "id": "S-eWdf0Y3bIk",
        "outputId": "c9c73b23-df4e-4397-9d4c-3141cd2f6bbc"
      },
      "source": [
        "no_1753 = nw_plants[nw_plants['year'] > 1753]\r\n",
        "no_1753.groupby('year')['id'].count().plot(title='Number of NW U.S Plants that Have been Discovered After 1753 \\n (NW U.S Plants)', xlabel=\"Year\", color=\"forestgreen\")"
      ],
      "execution_count": null,
      "outputs": [
        {
          "output_type": "execute_result",
          "data": {
            "text/plain": [
              "<matplotlib.axes._subplots.AxesSubplot at 0x7fe4641a9710>"
            ]
          },
          "metadata": {
            "tags": []
          },
          "execution_count": 92
        },
        {
          "output_type": "display_data",
          "data": {
            "image/png": "[encoded data removed]",
            "text/plain": [
              "<Figure size 432x288 with 1 Axes>"
            ]
          },
          "metadata": {
            "tags": []
          }
        }
      ]
    },
    {
      "cell_type": "markdown",
      "metadata": {
        "id": "S6o33wJVI1o-"
      },
      "source": [
        "## Distribution of Introduced, Extinct, and Native Plants in California"
      ]
    },
    {
      "cell_type": "code",
      "metadata": {
        "id": "nTC_JrxXEWKb"
      },
      "source": [
        "native_dist = pd.DataFrame(nw_plants['main_species.distribution.native'].str.contains('California').value_counts(normalize=True)).reset_index()\r\n",
        "extinct_dist = pd.DataFrame(nw_plants['main_species.distribution.extinct'].str.contains('California').value_counts(normalize=True)).reset_index()\r\n",
        "introduced_dist = pd.DataFrame(nw_plants['main_species.distribution.introduced'].str.contains('California').value_counts(normalize=True)).reset_index()"
      ],
      "execution_count": null,
      "outputs": []
    },
    {
      "cell_type": "code",
      "metadata": {
        "id": "p6EyMTHkK_x2"
      },
      "source": [
        "native_dist['status'] = 'native'\r\n",
        "native_dist['value'] = native_dist['main_species.distribution.native']\r\n",
        "\r\n",
        "extinct_dist['status'] = 'extinct'\r\n",
        "extinct_dist['value'] = extinct_dist['main_species.distribution.extinct']\r\n",
        "\r\n",
        "introduced_dist['status'] = 'introduced'\r\n",
        "introduced_dist['value'] = introduced_dist['main_species.distribution.introduced']"
      ],
      "execution_count": null,
      "outputs": []
    },
    {
      "cell_type": "code",
      "metadata": {
        "colab": {
          "base_uri": "https://localhost:8080/",
          "height": 235
        },
        "id": "TLpdBRX2Jd9g",
        "outputId": "4725a5ab-ccbe-45a6-dcd1-399ec9aaae9b"
      },
      "source": [
        "cal_dist = pd.concat([native_dist, extinct_dist, introduced_dist])\r\n",
        "cal_dist = cal_dist.reset_index()\r\n",
        "cal_dist"
      ],
      "execution_count": null,
      "outputs": [
        {
          "output_type": "execute_result",
          "data": {
            "text/html": [
              "<div>\n",
              "<style scoped>\n",
              "    .dataframe tbody tr th:only-of-type {\n",
              "        vertical-align: middle;\n",
              "    }\n",
              "\n",
              "    .dataframe tbody tr th {\n",
              "        vertical-align: top;\n",
              "    }\n",
              "\n",
              "    .dataframe thead th {\n",
              "        text-align: right;\n",
              "    }\n",
              "</style>\n",
              "<table border=\"1\" class=\"dataframe\">\n",
              "  <thead>\n",
              "    <tr style=\"text-align: right;\">\n",
              "      <th></th>\n",
              "      <th>level_0</th>\n",
              "      <th>index</th>\n",
              "      <th>main_species.distribution.native</th>\n",
              "      <th>status</th>\n",
              "      <th>value</th>\n",
              "      <th>main_species.distribution.extinct</th>\n",
              "      <th>main_species.distribution.introduced</th>\n",
              "    </tr>\n",
              "  </thead>\n",
              "  <tbody>\n",
              "    <tr>\n",
              "      <th>0</th>\n",
              "      <td>0</td>\n",
              "      <td>False</td>\n",
              "      <td>0.593969</td>\n",
              "      <td>native</td>\n",
              "      <td>0.593969</td>\n",
              "      <td>NaN</td>\n",
              "      <td>NaN</td>\n",
              "    </tr>\n",
              "    <tr>\n",
              "      <th>1</th>\n",
              "      <td>1</td>\n",
              "      <td>True</td>\n",
              "      <td>0.406031</td>\n",
              "      <td>native</td>\n",
              "      <td>0.406031</td>\n",
              "      <td>NaN</td>\n",
              "      <td>NaN</td>\n",
              "    </tr>\n",
              "    <tr>\n",
              "      <th>2</th>\n",
              "      <td>0</td>\n",
              "      <td>False</td>\n",
              "      <td>NaN</td>\n",
              "      <td>extinct</td>\n",
              "      <td>0.922414</td>\n",
              "      <td>0.922414</td>\n",
              "      <td>NaN</td>\n",
              "    </tr>\n",
              "    <tr>\n",
              "      <th>3</th>\n",
              "      <td>1</td>\n",
              "      <td>True</td>\n",
              "      <td>NaN</td>\n",
              "      <td>extinct</td>\n",
              "      <td>0.077586</td>\n",
              "      <td>0.077586</td>\n",
              "      <td>NaN</td>\n",
              "    </tr>\n",
              "    <tr>\n",
              "      <th>4</th>\n",
              "      <td>0</td>\n",
              "      <td>False</td>\n",
              "      <td>NaN</td>\n",
              "      <td>introduced</td>\n",
              "      <td>0.622120</td>\n",
              "      <td>NaN</td>\n",
              "      <td>0.62212</td>\n",
              "    </tr>\n",
              "    <tr>\n",
              "      <th>5</th>\n",
              "      <td>1</td>\n",
              "      <td>True</td>\n",
              "      <td>NaN</td>\n",
              "      <td>introduced</td>\n",
              "      <td>0.377880</td>\n",
              "      <td>NaN</td>\n",
              "      <td>0.37788</td>\n",
              "    </tr>\n",
              "  </tbody>\n",
              "</table>\n",
              "</div>"
            ],
            "text/plain": [
              "   level_0  ...  main_species.distribution.introduced\n",
              "0        0  ...                                   NaN\n",
              "1        1  ...                                   NaN\n",
              "2        0  ...                                   NaN\n",
              "3        1  ...                                   NaN\n",
              "4        0  ...                               0.62212\n",
              "5        1  ...                               0.37788\n",
              "\n",
              "[6 rows x 7 columns]"
            ]
          },
          "metadata": {
            "tags": []
          },
          "execution_count": 99
        }
      ]
    },
    {
      "cell_type": "code",
      "metadata": {
        "colab": {
          "base_uri": "https://localhost:8080/",
          "height": 422
        },
        "id": "AMpiyO1eJboS",
        "outputId": "d20a94e4-6904-430e-e5b2-6aaaba283509"
      },
      "source": [
        "alt.Chart(cal_dist).mark_bar().encode(\r\n",
        "    x = 'status',\r\n",
        "    y = 'value',\r\n",
        "    color = 'index'\r\n",
        ").properties(\r\n",
        "    width=300,\r\n",
        "    height=300\r\n",
        ").properties(\r\n",
        "    title='Distribution of Extinct, Introduced, and Native Northwest Plants in California'\r\n",
        ")\r\n"
      ],
      "execution_count": null,
      "outputs": [
        {
          "output_type": "execute_result",
          "data": {
            "text/plain": [
              "alt.Chart(...)"
            ],
            "text/html": [
              "\n",
              "<div id=\"altair-viz-57224fa6742d4a84b2e2cee4035d1739\"></div>\n",
              "<script type=\"text/javascript\">\n",
              "  (function(spec, embedOpt){\n",
              "    let outputDiv = document.currentScript.previousElementSibling;\n",
              "    if (outputDiv.id !== \"altair-viz-57224fa6742d4a84b2e2cee4035d1739\") {\n",
              "      outputDiv = document.getElementById(\"altair-viz-57224fa6742d4a84b2e2cee4035d1739\");\n",
              "    }\n",
              "    const paths = {\n",
              "      \"vega\": \"https://cdn.jsdelivr.net/npm//vega@5?noext\",\n",
              "      \"vega-lib\": \"https://cdn.jsdelivr.net/npm//vega-lib?noext\",\n",
              "      \"vega-lite\": \"https://cdn.jsdelivr.net/npm//vega-lite@4.8.1?noext\",\n",
              "      \"vega-embed\": \"https://cdn.jsdelivr.net/npm//vega-embed@6?noext\",\n",
              "    };\n",
              "\n",
              "    function loadScript(lib) {\n",
              "      return new Promise(function(resolve, reject) {\n",
              "        var s = document.createElement('script');\n",
              "        s.src = paths[lib];\n",
              "        s.async = true;\n",
              "        s.onload = () => resolve(paths[lib]);\n",
              "        s.onerror = () => reject(`Error loading script: ${paths[lib]}`);\n",
              "        document.getElementsByTagName(\"head\")[0].appendChild(s);\n",
              "      });\n",
              "    }\n",
              "\n",
              "    function showError(err) {\n",
              "      outputDiv.innerHTML = `<div class=\"error\" style=\"color:red;\">${err}</div>`;\n",
              "      throw err;\n",
              "    }\n",
              "\n",
              "    function displayChart(vegaEmbed) {\n",
              "      vegaEmbed(outputDiv, spec, embedOpt)\n",
              "        .catch(err => showError(`Javascript Error: ${err.message}<br>This usually means there's a typo in your chart specification. See the javascript console for the full traceback.`));\n",
              "    }\n",
              "\n",
              "    if(typeof define === \"function\" && define.amd) {\n",
              "      requirejs.config({paths});\n",
              "      require([\"vega-embed\"], displayChart, err => showError(`Error loading script: ${err.message}`));\n",
              "    } else if (typeof vegaEmbed === \"function\") {\n",
              "      displayChart(vegaEmbed);\n",
              "    } else {\n",
              "      loadScript(\"vega\")\n",
              "        .then(() => loadScript(\"vega-lite\"))\n",
              "        .then(() => loadScript(\"vega-embed\"))\n",
              "        .catch(showError)\n",
              "        .then(() => displayChart(vegaEmbed));\n",
              "    }\n",
              "  })({\"config\": {\"view\": {\"continuousWidth\": 400, \"continuousHeight\": 300}}, \"data\": {\"name\": \"data-62756cf1af87b874a0e2effae82be3d7\"}, \"mark\": \"bar\", \"encoding\": {\"color\": {\"type\": \"nominal\", \"field\": \"index\"}, \"x\": {\"type\": \"nominal\", \"field\": \"status\"}, \"y\": {\"type\": \"quantitative\", \"field\": \"value\"}}, \"height\": 300, \"title\": \"Distribution of Extinct, Introduced, and Native Northwest Plants in California\", \"width\": 300, \"$schema\": \"https://vega.github.io/schema/vega-lite/v4.8.1.json\", \"datasets\": {\"data-62756cf1af87b874a0e2effae82be3d7\": [{\"level_0\": 0, \"index\": false, \"main_species.distribution.native\": 0.5939692774511663, \"status\": \"native\", \"value\": 0.5939692774511663, \"main_species.distribution.extinct\": null, \"main_species.distribution.introduced\": null}, {\"level_0\": 1, \"index\": true, \"main_species.distribution.native\": 0.40603072254883366, \"status\": \"native\", \"value\": 0.40603072254883366, \"main_species.distribution.extinct\": null, \"main_species.distribution.introduced\": null}, {\"level_0\": 0, \"index\": false, \"main_species.distribution.native\": null, \"status\": \"extinct\", \"value\": 0.9224137931034483, \"main_species.distribution.extinct\": 0.9224137931034483, \"main_species.distribution.introduced\": null}, {\"level_0\": 1, \"index\": true, \"main_species.distribution.native\": null, \"status\": \"extinct\", \"value\": 0.07758620689655173, \"main_species.distribution.extinct\": 0.07758620689655173, \"main_species.distribution.introduced\": null}, {\"level_0\": 0, \"index\": false, \"main_species.distribution.native\": null, \"status\": \"introduced\", \"value\": 0.6221198156682027, \"main_species.distribution.extinct\": null, \"main_species.distribution.introduced\": 0.6221198156682027}, {\"level_0\": 1, \"index\": true, \"main_species.distribution.native\": null, \"status\": \"introduced\", \"value\": 0.3778801843317972, \"main_species.distribution.extinct\": null, \"main_species.distribution.introduced\": 0.3778801843317972}]}}, {\"mode\": \"vega-lite\"});\n",
              "</script>"
            ]
          },
          "metadata": {
            "tags": []
          },
          "execution_count": 102
        }
      ]
    },
    {
      "cell_type": "markdown",
      "metadata": {
        "id": "OWxSOUs0BoTq"
      },
      "source": [
        "## Distribution of Bloom Months"
      ]
    },
    {
      "cell_type": "code",
      "metadata": {
        "id": "-cexnWrJ3gyX"
      },
      "source": [
        "nw_bloom = nw_plants[['id','main_species.growth.bloom_months']].dropna().reset_index()"
      ],
      "execution_count": null,
      "outputs": []
    },
    {
      "cell_type": "code",
      "metadata": {
        "colab": {
          "base_uri": "https://localhost:8080/",
          "height": 297
        },
        "id": "-cp4QYIJ8Vbc",
        "outputId": "98ba98fe-73a7-4bef-b2ea-76eaa0b6a3b4"
      },
      "source": [
        "nw_bloom.describe()"
      ],
      "execution_count": null,
      "outputs": [
        {
          "output_type": "execute_result",
          "data": {
            "text/html": [
              "<div>\n",
              "<style scoped>\n",
              "    .dataframe tbody tr th:only-of-type {\n",
              "        vertical-align: middle;\n",
              "    }\n",
              "\n",
              "    .dataframe tbody tr th {\n",
              "        vertical-align: top;\n",
              "    }\n",
              "\n",
              "    .dataframe thead th {\n",
              "        text-align: right;\n",
              "    }\n",
              "</style>\n",
              "<table border=\"1\" class=\"dataframe\">\n",
              "  <thead>\n",
              "    <tr style=\"text-align: right;\">\n",
              "      <th></th>\n",
              "      <th>index</th>\n",
              "      <th>id</th>\n",
              "    </tr>\n",
              "  </thead>\n",
              "  <tbody>\n",
              "    <tr>\n",
              "      <th>count</th>\n",
              "      <td>258.000000</td>\n",
              "      <td>258.000000</td>\n",
              "    </tr>\n",
              "    <tr>\n",
              "      <th>mean</th>\n",
              "      <td>589.100775</td>\n",
              "      <td>147061.232558</td>\n",
              "    </tr>\n",
              "    <tr>\n",
              "      <th>std</th>\n",
              "      <td>554.723738</td>\n",
              "      <td>33787.525442</td>\n",
              "    </tr>\n",
              "    <tr>\n",
              "      <th>min</th>\n",
              "      <td>5.000000</td>\n",
              "      <td>95651.000000</td>\n",
              "    </tr>\n",
              "    <tr>\n",
              "      <th>25%</th>\n",
              "      <td>269.750000</td>\n",
              "      <td>124856.250000</td>\n",
              "    </tr>\n",
              "    <tr>\n",
              "      <th>50%</th>\n",
              "      <td>481.500000</td>\n",
              "      <td>143086.000000</td>\n",
              "    </tr>\n",
              "    <tr>\n",
              "      <th>75%</th>\n",
              "      <td>710.500000</td>\n",
              "      <td>167183.500000</td>\n",
              "    </tr>\n",
              "    <tr>\n",
              "      <th>max</th>\n",
              "      <td>5259.000000</td>\n",
              "      <td>399927.000000</td>\n",
              "    </tr>\n",
              "  </tbody>\n",
              "</table>\n",
              "</div>"
            ],
            "text/plain": [
              "             index             id\n",
              "count   258.000000     258.000000\n",
              "mean    589.100775  147061.232558\n",
              "std     554.723738   33787.525442\n",
              "min       5.000000   95651.000000\n",
              "25%     269.750000  124856.250000\n",
              "50%     481.500000  143086.000000\n",
              "75%     710.500000  167183.500000\n",
              "max    5259.000000  399927.000000"
            ]
          },
          "metadata": {
            "tags": []
          },
          "execution_count": 26
        }
      ]
    },
    {
      "cell_type": "code",
      "metadata": {
        "id": "LCWO9FmU61ht"
      },
      "source": [
        "bloom_months = {}\r\n",
        "months = ['jan', 'feb', 'mar', 'apr', 'may', 'jun', 'jul', 'aug', 'sep', 'oct', 'nov', 'dec']\r\n",
        "\r\n",
        "for month in months:\r\n",
        "  temp = nw_bloom['main_species.growth.bloom_months'].str.contains(month).sum()\r\n",
        "  bloom_months[month] = temp"
      ],
      "execution_count": null,
      "outputs": []
    },
    {
      "cell_type": "code",
      "metadata": {
        "colab": {
          "base_uri": "https://localhost:8080/",
          "height": 328
        },
        "id": "QgY5mHjB72Dx",
        "outputId": "051bc07e-592e-4946-c841-308e7b62215e"
      },
      "source": [
        "pd.Series(bloom_months).plot.bar(title='Distribution of Bloom Months in NW U.S (n = 258)', xlabel='Year', color=\"yellowgreen\")"
      ],
      "execution_count": null,
      "outputs": [
        {
          "output_type": "execute_result",
          "data": {
            "text/plain": [
              "<matplotlib.axes._subplots.AxesSubplot at 0x7fe463d57850>"
            ]
          },
          "metadata": {
            "tags": []
          },
          "execution_count": 87
        },
        {
          "output_type": "display_data",
          "data": {
            "image/png": "[encoded data removed]",
            "text/plain": [
              "<Figure size 432x288 with 1 Axes>"
            ]
          },
          "metadata": {
            "tags": []
          }
        }
      ]
    },
    {
      "cell_type": "markdown",
      "metadata": {
        "id": "lrk6W7y3EN6m"
      },
      "source": [
        "## Top 10 Most Common Plant Families"
      ]
    },
    {
      "cell_type": "code",
      "metadata": {
        "colab": {
          "base_uri": "https://localhost:8080/",
          "height": 377
        },
        "id": "UeSnidNRBOFw",
        "outputId": "a2ddda57-670d-4321-f021-7eadce3a6f22"
      },
      "source": [
        "nw_plants['main_species.family_common_name'].value_counts(normalize=True)[0:10].plot.bar(title=\"Top 10 Most Common Plant Families in NW U.S\", \r\n",
        "                                                                           color=\"cornflowerblue\", rot=70)"
      ],
      "execution_count": null,
      "outputs": [
        {
          "output_type": "execute_result",
          "data": {
            "text/plain": [
              "<matplotlib.axes._subplots.AxesSubplot at 0x7f6cd9b0fa50>"
            ]
          },
          "metadata": {
            "tags": []
          },
          "execution_count": 4
        },
        {
          "output_type": "display_data",
          "data": {
            "image/png": "[encoded data removed]",
            "text/plain": [
              "<Figure size 432x288 with 1 Axes>"
            ]
          },
          "metadata": {
            "tags": []
          }
        }
      ]
    },
    {
      "cell_type": "markdown",
      "metadata": {
        "id": "O_jDmPkBFDXp"
      },
      "source": [
        "## Average Minimum and Maximum Precipitation for the Top 5 Plant Families"
      ]
    },
    {
      "cell_type": "code",
      "metadata": {
        "id": "6k3pCPIGDJIm"
      },
      "source": [
        "top_5_fams = nw_plants[(nw_plants['main_species.family_common_name'] == 'Aster family') | \r\n",
        "          (nw_plants['main_species.family_common_name'] == 'Grass family') |\r\n",
        "          (nw_plants['main_species.family_common_name'] == 'Pea family') |\r\n",
        "          (nw_plants['main_species.family_common_name'] == 'Mustard family') |\r\n",
        "          (nw_plants['main_species.family_common_name'] == 'Sedge family') \r\n",
        "          ]"
      ],
      "execution_count": null,
      "outputs": []
    },
    {
      "cell_type": "code",
      "metadata": {
        "colab": {
          "base_uri": "https://localhost:8080/"
        },
        "id": "PXBF1PSTERRt",
        "outputId": "784ccb8b-ae59-4d0b-b82f-22e0b399684d"
      },
      "source": [
        "top_5_fams['main_species.family_common_name'].value_counts()"
      ],
      "execution_count": null,
      "outputs": [
        {
          "output_type": "execute_result",
          "data": {
            "text/plain": [
              "Aster family      747\n",
              "Grass family      473\n",
              "Pea family        397\n",
              "Mustard family    326\n",
              "Sedge family      276\n",
              "Name: main_species.family_common_name, dtype: int64"
            ]
          },
          "metadata": {
            "tags": []
          },
          "execution_count": 62
        }
      ]
    },
    {
      "cell_type": "code",
      "metadata": {
        "id": "X2VdsUxPGOB3"
      },
      "source": [
        "top_5_fams = top_5_fams.rename(columns={'main_species.growth.minimum_precipitation.mm': \"Minimum Precipitation\", \r\n",
        "                           'main_species.growth.maximum_precipitation.mm': \"Maximum Precipitation\"})"
      ],
      "execution_count": null,
      "outputs": []
    },
    {
      "cell_type": "code",
      "metadata": {
        "colab": {
          "base_uri": "https://localhost:8080/",
          "height": 480
        },
        "id": "oZnvj3u1FYwy",
        "outputId": "df1cb58b-3052-4ed5-93bf-0ff712f7de3c"
      },
      "source": [
        "top_5_fams.groupby('main_species.family_common_name')['Minimum Precipitation',\r\n",
        "                                                      'Maximum Precipitation' ].mean().plot.bar(\r\n",
        "                                                          xlabel =\"Family\", \r\n",
        "                                                          rot = 45\r\n",
        "                                                      ).legend(loc='lower center', bbox_to_anchor=(0.5, -0.7));\r\n",
        "plt.title(\"Mean Minimum/Maximum Precipitation (mm) \\n for Top 5 Plant Families in NW U.S\")"
      ],
      "execution_count": null,
      "outputs": [
        {
          "output_type": "stream",
          "text": [
            "/usr/local/lib/python3.7/dist-packages/ipykernel_launcher.py:1: FutureWarning: Indexing with multiple keys (implicitly converted to a tuple of keys) will be deprecated, use a list instead.\n",
            "  \"\"\"Entry point for launching an IPython kernel.\n"
          ],
          "name": "stderr"
        },
        {
          "output_type": "execute_result",
          "data": {
            "text/plain": [
              "Text(0.5, 1.0, 'Mean Minimum/Maximum Precipitation (mm) \\n for Top 5 Plant Families in NW U.S')"
            ]
          },
          "metadata": {
            "tags": []
          },
          "execution_count": 12
        },
        {
          "output_type": "display_data",
          "data": {
            "image/png": "[encoded data removed]",
            "text/plain": [
              "<Figure size 432x288 with 1 Axes>"
            ]
          },
          "metadata": {
            "tags": []
          }
        }
      ]
    },
    {
      "cell_type": "code",
      "metadata": {
        "id": "lnkudtbsUh84",
        "colab": {
          "base_uri": "https://localhost:8080/",
          "height": 269
        },
        "outputId": "486c2916-cc76-43ca-a05d-cdc2d9db93b6"
      },
      "source": [
        "top_5_fams.groupby('main_species.family_common_name')['Minimum Precipitation',\r\n",
        "                                                      'Maximum Precipitation' ].mean()"
      ],
      "execution_count": null,
      "outputs": [
        {
          "output_type": "stream",
          "text": [
            "/usr/local/lib/python3.7/dist-packages/ipykernel_launcher.py:1: FutureWarning: Indexing with multiple keys (implicitly converted to a tuple of keys) will be deprecated, use a list instead.\n",
            "  \"\"\"Entry point for launching an IPython kernel.\n"
          ],
          "name": "stderr"
        },
        {
          "output_type": "execute_result",
          "data": {
            "text/html": [
              "<div>\n",
              "<style scoped>\n",
              "    .dataframe tbody tr th:only-of-type {\n",
              "        vertical-align: middle;\n",
              "    }\n",
              "\n",
              "    .dataframe tbody tr th {\n",
              "        vertical-align: top;\n",
              "    }\n",
              "\n",
              "    .dataframe thead th {\n",
              "        text-align: right;\n",
              "    }\n",
              "</style>\n",
              "<table border=\"1\" class=\"dataframe\">\n",
              "  <thead>\n",
              "    <tr style=\"text-align: right;\">\n",
              "      <th></th>\n",
              "      <th>Minimum Precipitation</th>\n",
              "      <th>Maximum Precipitation</th>\n",
              "    </tr>\n",
              "    <tr>\n",
              "      <th>main_species.family_common_name</th>\n",
              "      <th></th>\n",
              "      <th></th>\n",
              "    </tr>\n",
              "  </thead>\n",
              "  <tbody>\n",
              "    <tr>\n",
              "      <th>Aster family</th>\n",
              "      <td>321.730769</td>\n",
              "      <td>933.067308</td>\n",
              "    </tr>\n",
              "    <tr>\n",
              "      <th>Grass family</th>\n",
              "      <td>437.516129</td>\n",
              "      <td>1188.283871</td>\n",
              "    </tr>\n",
              "    <tr>\n",
              "      <th>Mustard family</th>\n",
              "      <td>435.473684</td>\n",
              "      <td>990.368421</td>\n",
              "    </tr>\n",
              "    <tr>\n",
              "      <th>Pea family</th>\n",
              "      <td>468.867647</td>\n",
              "      <td>1243.014706</td>\n",
              "    </tr>\n",
              "    <tr>\n",
              "      <th>Sedge family</th>\n",
              "      <td>478.492754</td>\n",
              "      <td>1301.565217</td>\n",
              "    </tr>\n",
              "  </tbody>\n",
              "</table>\n",
              "</div>"
            ],
            "text/plain": [
              "                                 Minimum Precipitation  Maximum Precipitation\n",
              "main_species.family_common_name                                              \n",
              "Aster family                                321.730769             933.067308\n",
              "Grass family                                437.516129            1188.283871\n",
              "Mustard family                              435.473684             990.368421\n",
              "Pea family                                  468.867647            1243.014706\n",
              "Sedge family                                478.492754            1301.565217"
            ]
          },
          "metadata": {
            "tags": []
          },
          "execution_count": 13
        }
      ]
    },
    {
      "cell_type": "code",
      "metadata": {
        "colab": {
          "base_uri": "https://localhost:8080/",
          "height": 316
        },
        "id": "AwSMPpFiFzha",
        "outputId": "82c6e464-9915-46b2-8f67-73b0f3840a16"
      },
      "source": [
        "top_5_fams.groupby('main_species.family_common_name')['Maximum Precipitation'].plot.density(alpha=0.9, legend=True, xlim=0)\r\n",
        "plt.title(\"Density Distribution of Maximum Precipitation for \\n Top 5 Plant Families in NW U.S\")"
      ],
      "execution_count": null,
      "outputs": [
        {
          "output_type": "execute_result",
          "data": {
            "text/plain": [
              "Text(0.5, 1.0, 'Density Distribution of Maximum Precipitation for \\n Top 5 Plant Families in NW U.S')"
            ]
          },
          "metadata": {
            "tags": []
          },
          "execution_count": 9
        },
        {
          "output_type": "display_data",
          "data": {
            "image/png": "[encoded data removed]",
            "text/plain": [
              "<Figure size 432x288 with 1 Axes>"
            ]
          },
          "metadata": {
            "tags": []
          }
        }
      ]
    },
    {
      "cell_type": "markdown",
      "metadata": {
        "id": "5hdl_F_MC9Mx"
      },
      "source": [
        "## Conditional Probability of Foliage Texture Given Foliage Color"
      ]
    },
    {
      "cell_type": "code",
      "metadata": {
        "id": "2jFazkol9APg"
      },
      "source": [
        "df_text_color = nw_plants[['id', 'main_species.foliage.texture', 'main_species.foliage.color']].dropna().reset_index()"
      ],
      "execution_count": null,
      "outputs": []
    },
    {
      "cell_type": "code",
      "metadata": {
        "colab": {
          "base_uri": "https://localhost:8080/"
        },
        "id": "O_8IEqszEv71",
        "outputId": "ae3b19bb-83d1-4152-cbac-352707493867"
      },
      "source": [
        "len(df_text_color)"
      ],
      "execution_count": null,
      "outputs": [
        {
          "output_type": "execute_result",
          "data": {
            "text/plain": [
              "254"
            ]
          },
          "metadata": {
            "tags": []
          },
          "execution_count": 36
        }
      ]
    },
    {
      "cell_type": "code",
      "metadata": {
        "colab": {
          "base_uri": "https://localhost:8080/"
        },
        "id": "okJue5ji_Woo",
        "outputId": "56d96ce2-14fb-48e8-e8d5-4bc6f38e414d"
      },
      "source": [
        "df_text_color['main_species.foliage.color'].value_counts()"
      ],
      "execution_count": null,
      "outputs": [
        {
          "output_type": "execute_result",
          "data": {
            "text/plain": [
              "['green']     235\n",
              "['yellow']      9\n",
              "['grey']        7\n",
              "['red']         3\n",
              "Name: main_species.foliage.color, dtype: int64"
            ]
          },
          "metadata": {
            "tags": []
          },
          "execution_count": 16
        }
      ]
    },
    {
      "cell_type": "code",
      "metadata": {
        "id": "_sbQC_F99vCb"
      },
      "source": [
        "df_text_color['color'] = df_text_color['main_species.foliage.color'].str.lstrip(\"['\").str.rstrip(\"']\")"
      ],
      "execution_count": null,
      "outputs": []
    },
    {
      "cell_type": "code",
      "metadata": {
        "id": "UnP2JiepDeHV"
      },
      "source": [
        "color_list = ['lightpink', 'yellowgreen', 'lightseagreen']"
      ],
      "execution_count": null,
      "outputs": []
    },
    {
      "cell_type": "code",
      "metadata": {
        "colab": {
          "base_uri": "https://localhost:8080/",
          "height": 354
        },
        "id": "knHylgQ_-Mpw",
        "outputId": "4cb4f699-35b9-40e8-9950-4c75b6001e7b"
      },
      "source": [
        "cond_text_color = pd.crosstab(df_text_color['main_species.foliage.texture'], df_text_color['color'], normalize='columns')\r\n",
        "cond_text_color.T.plot.bar(title='Probability of Foliage Texture given Foliage Color (n=254)', color=color_list,\r\n",
        "                           xlabel=\"Foliage Color\").legend(loc='center left',bbox_to_anchor=(1.0, 0.5));\r\n",
        "\r\n",
        "plt.title(\"Probability of Foliage Texture Given Foliage Color \\n (n=254)\", loc=\"center\")"
      ],
      "execution_count": null,
      "outputs": [
        {
          "output_type": "execute_result",
          "data": {
            "text/plain": [
              "Text(0.5, 1.0, 'Probability of Foliage Texture Given Foliage Color \\n (n=254)')"
            ]
          },
          "metadata": {
            "tags": []
          },
          "execution_count": 8
        },
        {
          "output_type": "display_data",
          "data": {
            "image/png": "[encoded data removed]",
            "text/plain": [
              "<Figure size 432x288 with 1 Axes>"
            ]
          },
          "metadata": {
            "tags": []
          }
        }
      ]
    },
    {
      "cell_type": "code",
      "metadata": {
        "colab": {
          "base_uri": "https://localhost:8080/",
          "height": 173
        },
        "id": "M3RNNoU3UYNJ",
        "outputId": "7803c1bf-5734-4c94-9b18-7b7372808c38"
      },
      "source": [
        "cond_text_color"
      ],
      "execution_count": null,
      "outputs": [
        {
          "output_type": "execute_result",
          "data": {
            "text/html": [
              "<div>\n",
              "<style scoped>\n",
              "    .dataframe tbody tr th:only-of-type {\n",
              "        vertical-align: middle;\n",
              "    }\n",
              "\n",
              "    .dataframe tbody tr th {\n",
              "        vertical-align: top;\n",
              "    }\n",
              "\n",
              "    .dataframe thead th {\n",
              "        text-align: right;\n",
              "    }\n",
              "</style>\n",
              "<table border=\"1\" class=\"dataframe\">\n",
              "  <thead>\n",
              "    <tr style=\"text-align: right;\">\n",
              "      <th>color</th>\n",
              "      <th>green</th>\n",
              "      <th>grey</th>\n",
              "      <th>red</th>\n",
              "      <th>yellow</th>\n",
              "    </tr>\n",
              "    <tr>\n",
              "      <th>main_species.foliage.texture</th>\n",
              "      <th></th>\n",
              "      <th></th>\n",
              "      <th></th>\n",
              "      <th></th>\n",
              "    </tr>\n",
              "  </thead>\n",
              "  <tbody>\n",
              "    <tr>\n",
              "      <th>coarse</th>\n",
              "      <td>0.302128</td>\n",
              "      <td>0.571429</td>\n",
              "      <td>0.666667</td>\n",
              "      <td>0.111111</td>\n",
              "    </tr>\n",
              "    <tr>\n",
              "      <th>fine</th>\n",
              "      <td>0.293617</td>\n",
              "      <td>0.285714</td>\n",
              "      <td>0.333333</td>\n",
              "      <td>0.555556</td>\n",
              "    </tr>\n",
              "    <tr>\n",
              "      <th>medium</th>\n",
              "      <td>0.404255</td>\n",
              "      <td>0.142857</td>\n",
              "      <td>0.000000</td>\n",
              "      <td>0.333333</td>\n",
              "    </tr>\n",
              "  </tbody>\n",
              "</table>\n",
              "</div>"
            ],
            "text/plain": [
              "color                            green      grey       red    yellow\n",
              "main_species.foliage.texture                                        \n",
              "coarse                        0.302128  0.571429  0.666667  0.111111\n",
              "fine                          0.293617  0.285714  0.333333  0.555556\n",
              "medium                        0.404255  0.142857  0.000000  0.333333"
            ]
          },
          "metadata": {
            "tags": []
          },
          "execution_count": 9
        }
      ]
    }
  ]
}